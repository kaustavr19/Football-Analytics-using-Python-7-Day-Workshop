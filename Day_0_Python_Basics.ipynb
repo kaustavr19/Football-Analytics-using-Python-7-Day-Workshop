{
  "nbformat": 4,
  "nbformat_minor": 0,
  "metadata": {
    "colab": {
      "name": "Day 0 - Python Basics",
      "provenance": [],
      "collapsed_sections": [],
      "authorship_tag": "ABX9TyM22zIhPtJy+g8eIG8mYVt0",
      "include_colab_link": true
    },
    "kernelspec": {
      "name": "python3",
      "display_name": "Python 3"
    },
    "language_info": {
      "name": "python"
    }
  },
  "cells": [
    {
      "cell_type": "markdown",
      "metadata": {
        "id": "view-in-github",
        "colab_type": "text"
      },
      "source": [
        "<a href=\"https://colab.research.google.com/github/kaustavr19/Football-Analytics-using-Python-7-Day-Workshop/blob/main/Day_0_Python_Basics.ipynb\" target=\"_parent\"><img src=\"https://colab.research.google.com/assets/colab-badge.svg\" alt=\"Open In Colab\"/></a>"
      ]
    },
    {
      "cell_type": "markdown",
      "metadata": {
        "id": "PvliMWlmPbXb"
      },
      "source": [
        "## Data Type in Python\n",
        "\n",
        "1. Integer\n",
        "2. Float(Fractions)\n",
        "3. String\n",
        "4. Boolean\n",
        "5. Datetime"
      ]
    },
    {
      "cell_type": "code",
      "metadata": {
        "colab": {
          "base_uri": "https://localhost:8080/"
        },
        "id": "oG6KqThlNSso",
        "outputId": "fe236fde-9f2d-4fc8-e17a-cf49e2ed3c17"
      },
      "source": [
        "print(\"This is an Integer number\")\n",
        "1"
      ],
      "execution_count": null,
      "outputs": [
        {
          "output_type": "stream",
          "text": [
            "This is an Integer number\n"
          ],
          "name": "stdout"
        },
        {
          "output_type": "execute_result",
          "data": {
            "text/plain": [
              "1"
            ]
          },
          "metadata": {
            "tags": []
          },
          "execution_count": 1
        }
      ]
    },
    {
      "cell_type": "code",
      "metadata": {
        "colab": {
          "base_uri": "https://localhost:8080/"
        },
        "id": "ykjjBvwsP107",
        "outputId": "bad6d9b3-8509-4fbb-ae9a-07cddee83459"
      },
      "source": [
        "print(\"This is a Float number\")\n",
        "1.5"
      ],
      "execution_count": null,
      "outputs": [
        {
          "output_type": "stream",
          "text": [
            "This is a Float number\n"
          ],
          "name": "stdout"
        },
        {
          "output_type": "execute_result",
          "data": {
            "text/plain": [
              "1.5"
            ]
          },
          "metadata": {
            "tags": []
          },
          "execution_count": 2
        }
      ]
    },
    {
      "cell_type": "code",
      "metadata": {
        "colab": {
          "base_uri": "https://localhost:8080/"
        },
        "id": "a6cNc7-WQCyC",
        "outputId": "80982411-c853-4056-b34e-c92e9984fb25"
      },
      "source": [
        "print(\"This is also a Float number\")\n",
        "1.0"
      ],
      "execution_count": null,
      "outputs": [
        {
          "output_type": "stream",
          "text": [
            "This is also a Float number\n"
          ],
          "name": "stdout"
        },
        {
          "output_type": "execute_result",
          "data": {
            "text/plain": [
              "1.0"
            ]
          },
          "metadata": {
            "tags": []
          },
          "execution_count": 3
        }
      ]
    },
    {
      "cell_type": "code",
      "metadata": {
        "colab": {
          "base_uri": "https://localhost:8080/"
        },
        "id": "I-P3_I9vQMOC",
        "outputId": "e1beffe5-290b-4fe8-b879-c4edca80fa2e"
      },
      "source": [
        "type(1.0)"
      ],
      "execution_count": null,
      "outputs": [
        {
          "output_type": "execute_result",
          "data": {
            "text/plain": [
              "float"
            ]
          },
          "metadata": {
            "tags": []
          },
          "execution_count": 6
        }
      ]
    },
    {
      "cell_type": "code",
      "metadata": {
        "colab": {
          "base_uri": "https://localhost:8080/"
        },
        "id": "eI3YscMJQb2Z",
        "outputId": "6b5c6f7c-543f-4d1b-e446-31bfdc474b1e"
      },
      "source": [
        "type(1)"
      ],
      "execution_count": null,
      "outputs": [
        {
          "output_type": "execute_result",
          "data": {
            "text/plain": [
              "int"
            ]
          },
          "metadata": {
            "tags": []
          },
          "execution_count": 7
        }
      ]
    },
    {
      "cell_type": "code",
      "metadata": {
        "colab": {
          "base_uri": "https://localhost:8080/",
          "height": 52
        },
        "id": "tra90v_iQNff",
        "outputId": "dc655063-c32a-49fa-e13b-c7068ff77d10"
      },
      "source": [
        "print(\"This is a String\")\n",
        "\"abc\""
      ],
      "execution_count": null,
      "outputs": [
        {
          "output_type": "stream",
          "text": [
            "This is a String\n"
          ],
          "name": "stdout"
        },
        {
          "output_type": "execute_result",
          "data": {
            "application/vnd.google.colaboratory.intrinsic+json": {
              "type": "string"
            },
            "text/plain": [
              "'abc'"
            ]
          },
          "metadata": {
            "tags": []
          },
          "execution_count": 8
        }
      ]
    },
    {
      "cell_type": "code",
      "metadata": {
        "colab": {
          "base_uri": "https://localhost:8080/"
        },
        "id": "z7PLcsCjQhcV",
        "outputId": "83da7d65-6cfa-49fe-cdef-1fbfcc34c102"
      },
      "source": [
        "type(\"abc\")"
      ],
      "execution_count": null,
      "outputs": [
        {
          "output_type": "execute_result",
          "data": {
            "text/plain": [
              "str"
            ]
          },
          "metadata": {
            "tags": []
          },
          "execution_count": 9
        }
      ]
    },
    {
      "cell_type": "code",
      "metadata": {
        "colab": {
          "base_uri": "https://localhost:8080/"
        },
        "id": "ZrAbh6mpQtbd",
        "outputId": "2d03555e-5087-45c5-c537-050d12f528ca"
      },
      "source": [
        "type(123)"
      ],
      "execution_count": null,
      "outputs": [
        {
          "output_type": "execute_result",
          "data": {
            "text/plain": [
              "int"
            ]
          },
          "metadata": {
            "tags": []
          },
          "execution_count": 10
        }
      ]
    },
    {
      "cell_type": "code",
      "metadata": {
        "colab": {
          "base_uri": "https://localhost:8080/"
        },
        "id": "FxgjSwBFQvDY",
        "outputId": "4dddc356-6cd1-4ec2-9e1d-b943eafb2958"
      },
      "source": [
        "type('123')"
      ],
      "execution_count": null,
      "outputs": [
        {
          "output_type": "execute_result",
          "data": {
            "text/plain": [
              "str"
            ]
          },
          "metadata": {
            "tags": []
          },
          "execution_count": 11
        }
      ]
    },
    {
      "cell_type": "code",
      "metadata": {
        "colab": {
          "base_uri": "https://localhost:8080/"
        },
        "id": "NPiwOAysQyHC",
        "outputId": "aaaea417-9826-4b04-b292-057f5f8ab73b"
      },
      "source": [
        "print(\"Theses are the two boolean values\")\n",
        "print(True)\n",
        "print(False)"
      ],
      "execution_count": null,
      "outputs": [
        {
          "output_type": "stream",
          "text": [
            "Theses are the two boolean values\n",
            "True\n",
            "False\n"
          ],
          "name": "stdout"
        }
      ]
    },
    {
      "cell_type": "markdown",
      "metadata": {
        "id": "dYi82P-8WH75"
      },
      "source": [
        "## Mathematical Operations"
      ]
    },
    {
      "cell_type": "markdown",
      "metadata": {
        "id": "aZxd1_yUYfGX"
      },
      "source": [
        "### Integer Operations"
      ]
    },
    {
      "cell_type": "code",
      "metadata": {
        "colab": {
          "base_uri": "https://localhost:8080/"
        },
        "id": "GRy-RPJ2WMff",
        "outputId": "19dd0d6b-9019-4cf8-9ffa-060def6cfd63"
      },
      "source": [
        "#Two integers:\n",
        "print(\"Addition --> \",1+2)\n",
        "print(\"Subtraction --> \",1-2)\n",
        "print(\"Multiplication --> \",1*2)\n",
        "print(\"Divison --> \",1/2)\n",
        "print(\"Power --> \",1**2)\n",
        "print(\"Rounding --> \",round(1**2,2))"
      ],
      "execution_count": null,
      "outputs": [
        {
          "output_type": "stream",
          "text": [
            "Addition -->  3\n",
            "Subtraction -->  -1\n",
            "Multiplication -->  2\n",
            "Divison -->  0.5\n",
            "Power -->  1\n",
            "Rounding -->  1\n"
          ],
          "name": "stdout"
        }
      ]
    },
    {
      "cell_type": "markdown",
      "metadata": {
        "id": "glZdYV4SZCmo"
      },
      "source": [
        "### Floating Operations"
      ]
    },
    {
      "cell_type": "code",
      "metadata": {
        "colab": {
          "base_uri": "https://localhost:8080/"
        },
        "id": "Tp6T4TmCXj8W",
        "outputId": "a717a273-7f72-4e34-daa7-22d5ae1503e0"
      },
      "source": [
        "#Two floating numbers:\n",
        "print(\"Addition --> \",1.3+2.3)\n",
        "print(\"Subtraction --> \",1.5-2.3)\n",
        "print(\"Multiplication --> \",1.3*2.3)\n",
        "print(\"Divison --> \",1.3/2.3)\n",
        "print(\"Power --> \",1.3**2.3)\n",
        "print(\"Rounding --> \",round(1.3**2.3,2))"
      ],
      "execution_count": null,
      "outputs": [
        {
          "output_type": "stream",
          "text": [
            "Addition -->  3.5999999999999996\n",
            "Subtraction -->  -0.7999999999999998\n",
            "Multiplication -->  2.9899999999999998\n",
            "Divison -->  0.5652173913043479\n",
            "Power -->  1.828393675209252\n",
            "Rounding -->  1.83\n"
          ],
          "name": "stdout"
        }
      ]
    },
    {
      "cell_type": "markdown",
      "metadata": {
        "id": "Y-OJBZpfZJHu"
      },
      "source": [
        "### Integer-Float Operations"
      ]
    },
    {
      "cell_type": "code",
      "metadata": {
        "colab": {
          "base_uri": "https://localhost:8080/"
        },
        "id": "dFAdYubGZMHP",
        "outputId": "4e83096a-e48f-4934-df2b-80b294af8e04"
      },
      "source": [
        "print(\"Addition --> \",1+2.3)\n",
        "print(\"Subtraction --> \",1.5-2)\n",
        "print(\"Multiplication --> \",1*2.3)\n",
        "print(\"Divison --> \",1/2.3)\n",
        "print(\"Power --> \",1.3**2)\n",
        "print(\"Rounding --> \",round(1**2.3,2))"
      ],
      "execution_count": null,
      "outputs": [
        {
          "output_type": "stream",
          "text": [
            "Addition -->  3.3\n",
            "Subtraction -->  -0.5\n",
            "Multiplication -->  2.3\n",
            "Divison -->  0.4347826086956522\n",
            "Power -->  1.6900000000000002\n",
            "Rounding -->  1.0\n"
          ],
          "name": "stdout"
        }
      ]
    },
    {
      "cell_type": "markdown",
      "metadata": {
        "id": "XmcBTnEZZiyV"
      },
      "source": [
        "### String Operations"
      ]
    },
    {
      "cell_type": "code",
      "metadata": {
        "colab": {
          "base_uri": "https://localhost:8080/",
          "height": 35
        },
        "id": "_xzyOX6PZk2l",
        "outputId": "4baabaf2-6e4a-42b6-d2cb-89c60796b34d"
      },
      "source": [
        "\"ABC\" + \"def\" + \"xyZ123\""
      ],
      "execution_count": null,
      "outputs": [
        {
          "output_type": "execute_result",
          "data": {
            "application/vnd.google.colaboratory.intrinsic+json": {
              "type": "string"
            },
            "text/plain": [
              "'ABCdefxyZ123'"
            ]
          },
          "metadata": {
            "tags": []
          },
          "execution_count": 16
        }
      ]
    },
    {
      "cell_type": "code",
      "metadata": {
        "colab": {
          "base_uri": "https://localhost:8080/",
          "height": 162
        },
        "id": "jGr9apigZuL-",
        "outputId": "ef1e95e8-9392-40fb-8adf-7463cb305f78"
      },
      "source": [
        "\"ABC\" / \"def\""
      ],
      "execution_count": null,
      "outputs": [
        {
          "output_type": "error",
          "ename": "TypeError",
          "evalue": "ignored",
          "traceback": [
            "\u001b[0;31m---------------------------------------------------------------------------\u001b[0m",
            "\u001b[0;31mTypeError\u001b[0m                                 Traceback (most recent call last)",
            "\u001b[0;32m<ipython-input-17-09edf99ee7f8>\u001b[0m in \u001b[0;36m<module>\u001b[0;34m()\u001b[0m\n\u001b[0;32m----> 1\u001b[0;31m \u001b[0;34m\"ABC\"\u001b[0m \u001b[0;34m/\u001b[0m \u001b[0;34m\"def\"\u001b[0m\u001b[0;34m\u001b[0m\u001b[0;34m\u001b[0m\u001b[0m\n\u001b[0m",
            "\u001b[0;31mTypeError\u001b[0m: unsupported operand type(s) for /: 'str' and 'str'"
          ]
        }
      ]
    },
    {
      "cell_type": "code",
      "metadata": {
        "colab": {
          "base_uri": "https://localhost:8080/",
          "height": 35
        },
        "id": "hdylj9FXZxyv",
        "outputId": "a29efc5e-233b-47b9-f2fb-2556c739c932"
      },
      "source": [
        "str(1) + \"abc\""
      ],
      "execution_count": null,
      "outputs": [
        {
          "output_type": "execute_result",
          "data": {
            "application/vnd.google.colaboratory.intrinsic+json": {
              "type": "string"
            },
            "text/plain": [
              "'1abc'"
            ]
          },
          "metadata": {
            "tags": []
          },
          "execution_count": 18
        }
      ]
    },
    {
      "cell_type": "code",
      "metadata": {
        "colab": {
          "base_uri": "https://localhost:8080/"
        },
        "id": "Pi5Lmx4eZ2pu",
        "outputId": "67d6db6c-f301-4dbe-e003-fc368b680933"
      },
      "source": [
        "type(str(1))"
      ],
      "execution_count": null,
      "outputs": [
        {
          "output_type": "execute_result",
          "data": {
            "text/plain": [
              "str"
            ]
          },
          "metadata": {
            "tags": []
          },
          "execution_count": 19
        }
      ]
    },
    {
      "cell_type": "markdown",
      "metadata": {
        "id": "BUTrMLIuaHl-"
      },
      "source": [
        "### Boolean Operators\n",
        "\n",
        "1. AND -> &\n",
        "2. OR -> |\n",
        "3. XOR -> ^"
      ]
    },
    {
      "cell_type": "code",
      "metadata": {
        "colab": {
          "base_uri": "https://localhost:8080/"
        },
        "id": "Kwyd_HqYaJwh",
        "outputId": "c33593ae-be53-4784-c7d1-78e72c84eec2"
      },
      "source": [
        "##AND Opeartions\n",
        "print(False & False)\n",
        "print(True & False)\n",
        "print(False & True)\n",
        "print(True & True)"
      ],
      "execution_count": null,
      "outputs": [
        {
          "output_type": "stream",
          "text": [
            "False\n",
            "False\n",
            "False\n",
            "True\n"
          ],
          "name": "stdout"
        }
      ]
    },
    {
      "cell_type": "code",
      "metadata": {
        "colab": {
          "base_uri": "https://localhost:8080/"
        },
        "id": "kVgLRKOKaqRT",
        "outputId": "67bf13e1-cab7-40df-a3a9-3138c9360962"
      },
      "source": [
        "##OR operations\n",
        "print(False | False)\n",
        "print(True | False)\n",
        "print(False | True)\n",
        "print(True | True)"
      ],
      "execution_count": null,
      "outputs": [
        {
          "output_type": "stream",
          "text": [
            "False\n",
            "True\n",
            "True\n",
            "True\n"
          ],
          "name": "stdout"
        }
      ]
    },
    {
      "cell_type": "code",
      "metadata": {
        "colab": {
          "base_uri": "https://localhost:8080/"
        },
        "id": "XlMhOILraxrh",
        "outputId": "d1469b1b-e812-4752-c5da-de45680474e0"
      },
      "source": [
        "##XOR operations\n",
        "print(False ^ False)\n",
        "print(True ^ False)\n",
        "print(False ^ True)\n",
        "print(True ^ True)"
      ],
      "execution_count": null,
      "outputs": [
        {
          "output_type": "stream",
          "text": [
            "False\n",
            "True\n",
            "True\n",
            "False\n"
          ],
          "name": "stdout"
        }
      ]
    },
    {
      "cell_type": "markdown",
      "metadata": {
        "id": "RHtLlirZ082q"
      },
      "source": [
        "## Variables in Python"
      ]
    },
    {
      "cell_type": "markdown",
      "metadata": {
        "id": "mIVU7gVV1Esx"
      },
      "source": [
        "Variables are names assigned to value/objects that need to be stored in memory.\n",
        "\n",
        "The purpose of variables:\n",
        "1. reusability of the same value at multiple places.\n",
        "2. ease of modification and reapplication of changes."
      ]
    },
    {
      "cell_type": "code",
      "metadata": {
        "id": "8TJkXqEya8iw",
        "colab": {
          "base_uri": "https://localhost:8080/"
        },
        "outputId": "206ff21c-81b1-4048-afeb-7d8928a94994"
      },
      "source": [
        "my_float_no = 2.3\n",
        "print(my_float_no)"
      ],
      "execution_count": 1,
      "outputs": [
        {
          "output_type": "stream",
          "text": [
            "2.3\n"
          ],
          "name": "stdout"
        }
      ]
    },
    {
      "cell_type": "code",
      "metadata": {
        "colab": {
          "base_uri": "https://localhost:8080/"
        },
        "id": "XsFY88RU2EQR",
        "outputId": "1a897687-4a9c-4367-f3cd-86d5656765c2"
      },
      "source": [
        "my_str = \"abc123\"\n",
        "print(my_str)"
      ],
      "execution_count": 2,
      "outputs": [
        {
          "output_type": "stream",
          "text": [
            "abc123\n"
          ],
          "name": "stdout"
        }
      ]
    },
    {
      "cell_type": "markdown",
      "metadata": {
        "id": "1aOuLaep_BFj"
      },
      "source": [
        "## Basic Data Structures in Python\n",
        "\n",
        "1. List\n",
        "2. Dictionary"
      ]
    },
    {
      "cell_type": "markdown",
      "metadata": {
        "id": "XzXrCRlC_J0D"
      },
      "source": [
        "### List"
      ]
    },
    {
      "cell_type": "markdown",
      "metadata": {
        "id": "bOaRaaD4_MYD"
      },
      "source": [
        "A list is always surrounded by []. Each element of the list can be of any data type."
      ]
    },
    {
      "cell_type": "code",
      "metadata": {
        "colab": {
          "base_uri": "https://localhost:8080/"
        },
        "id": "xDa9_Eyd2aEJ",
        "outputId": "08012d3f-9c9e-435c-b971-3025495d64f5"
      },
      "source": [
        "[1,2,3,4,5]"
      ],
      "execution_count": 3,
      "outputs": [
        {
          "output_type": "execute_result",
          "data": {
            "text/plain": [
              "[1, 2, 3, 4, 5]"
            ]
          },
          "metadata": {
            "tags": []
          },
          "execution_count": 3
        }
      ]
    },
    {
      "cell_type": "code",
      "metadata": {
        "colab": {
          "base_uri": "https://localhost:8080/"
        },
        "id": "lzEc_wbx_bYr",
        "outputId": "101fad04-665d-4744-f06a-2a9e1bfe0bdb"
      },
      "source": [
        "[1,2.5,\"a\",\"B\",123]"
      ],
      "execution_count": 4,
      "outputs": [
        {
          "output_type": "execute_result",
          "data": {
            "text/plain": [
              "[1, 2.5, 'a', 'B', 123]"
            ]
          },
          "metadata": {
            "tags": []
          },
          "execution_count": 4
        }
      ]
    },
    {
      "cell_type": "code",
      "metadata": {
        "colab": {
          "base_uri": "https://localhost:8080/"
        },
        "id": "bctzC9iL_hlb",
        "outputId": "fd698e9e-7c2b-4c49-bd3e-228647d26ffd"
      },
      "source": [
        "my_list = [1,2.5,\"a\",\"B\",123]\n",
        "print(my_list)"
      ],
      "execution_count": 5,
      "outputs": [
        {
          "output_type": "stream",
          "text": [
            "[1, 2.5, 'a', 'B', 123]\n"
          ],
          "name": "stdout"
        }
      ]
    },
    {
      "cell_type": "code",
      "metadata": {
        "colab": {
          "base_uri": "https://localhost:8080/"
        },
        "id": "6qSwnDgZ_lTK",
        "outputId": "61204627-1675-4fc3-97b6-eebbc997538c"
      },
      "source": [
        "my_list[0]"
      ],
      "execution_count": 6,
      "outputs": [
        {
          "output_type": "execute_result",
          "data": {
            "text/plain": [
              "1"
            ]
          },
          "metadata": {
            "tags": []
          },
          "execution_count": 6
        }
      ]
    },
    {
      "cell_type": "code",
      "metadata": {
        "colab": {
          "base_uri": "https://localhost:8080/",
          "height": 35
        },
        "id": "-8vcqaGo_nRn",
        "outputId": "03b04c68-0d5a-4952-cc88-c3005cb5266e"
      },
      "source": [
        "my_list[2]"
      ],
      "execution_count": 7,
      "outputs": [
        {
          "output_type": "execute_result",
          "data": {
            "application/vnd.google.colaboratory.intrinsic+json": {
              "type": "string"
            },
            "text/plain": [
              "'a'"
            ]
          },
          "metadata": {
            "tags": []
          },
          "execution_count": 7
        }
      ]
    },
    {
      "cell_type": "code",
      "metadata": {
        "colab": {
          "base_uri": "https://localhost:8080/",
          "height": 162
        },
        "id": "6dMxoy6h_oqc",
        "outputId": "481e0385-ad3c-4492-e7ec-f756e0bfc34d"
      },
      "source": [
        "my_list[0] + my_list[3]"
      ],
      "execution_count": 8,
      "outputs": [
        {
          "output_type": "error",
          "ename": "TypeError",
          "evalue": "ignored",
          "traceback": [
            "\u001b[0;31m---------------------------------------------------------------------------\u001b[0m",
            "\u001b[0;31mTypeError\u001b[0m                                 Traceback (most recent call last)",
            "\u001b[0;32m<ipython-input-8-2d23438ca675>\u001b[0m in \u001b[0;36m<module>\u001b[0;34m()\u001b[0m\n\u001b[0;32m----> 1\u001b[0;31m \u001b[0mmy_list\u001b[0m\u001b[0;34m[\u001b[0m\u001b[0;36m0\u001b[0m\u001b[0;34m]\u001b[0m \u001b[0;34m+\u001b[0m \u001b[0mmy_list\u001b[0m\u001b[0;34m[\u001b[0m\u001b[0;36m3\u001b[0m\u001b[0;34m]\u001b[0m\u001b[0;34m\u001b[0m\u001b[0;34m\u001b[0m\u001b[0m\n\u001b[0m",
            "\u001b[0;31mTypeError\u001b[0m: unsupported operand type(s) for +: 'int' and 'str'"
          ]
        }
      ]
    },
    {
      "cell_type": "code",
      "metadata": {
        "colab": {
          "base_uri": "https://localhost:8080/"
        },
        "id": "th50F81z_tFd",
        "outputId": "ee4f73d3-ab29-4a1c-8b07-ef815c8e192c"
      },
      "source": [
        "my_list[0] + my_list[1]"
      ],
      "execution_count": 9,
      "outputs": [
        {
          "output_type": "execute_result",
          "data": {
            "text/plain": [
              "3.5"
            ]
          },
          "metadata": {
            "tags": []
          },
          "execution_count": 9
        }
      ]
    },
    {
      "cell_type": "code",
      "metadata": {
        "colab": {
          "base_uri": "https://localhost:8080/",
          "height": 35
        },
        "id": "ZxeHG4myBLgh",
        "outputId": "ce208336-52b3-48f6-e932-89309562767f"
      },
      "source": [
        "str(my_list[0]) + my_list[3]"
      ],
      "execution_count": 10,
      "outputs": [
        {
          "output_type": "execute_result",
          "data": {
            "application/vnd.google.colaboratory.intrinsic+json": {
              "type": "string"
            },
            "text/plain": [
              "'1B'"
            ]
          },
          "metadata": {
            "tags": []
          },
          "execution_count": 10
        }
      ]
    },
    {
      "cell_type": "code",
      "metadata": {
        "colab": {
          "base_uri": "https://localhost:8080/"
        },
        "id": "oR8QzJ9ZBTKB",
        "outputId": "3e35cacd-f338-46f5-a4a6-9e7e39771a4d"
      },
      "source": [
        "my_list[0:2]"
      ],
      "execution_count": 11,
      "outputs": [
        {
          "output_type": "execute_result",
          "data": {
            "text/plain": [
              "[1, 2.5]"
            ]
          },
          "metadata": {
            "tags": []
          },
          "execution_count": 11
        }
      ]
    },
    {
      "cell_type": "code",
      "metadata": {
        "colab": {
          "base_uri": "https://localhost:8080/"
        },
        "id": "31vzD72yBZQt",
        "outputId": "16c96fc1-31e8-4d70-8011-b9c7c36d5dd1"
      },
      "source": [
        "my_list[1:4]"
      ],
      "execution_count": 12,
      "outputs": [
        {
          "output_type": "execute_result",
          "data": {
            "text/plain": [
              "[2.5, 'a', 'B']"
            ]
          },
          "metadata": {
            "tags": []
          },
          "execution_count": 12
        }
      ]
    },
    {
      "cell_type": "code",
      "metadata": {
        "colab": {
          "base_uri": "https://localhost:8080/"
        },
        "id": "MNTTppKkBbLx",
        "outputId": "bbd3ae6d-ea6d-45f2-ab9a-54c232eed46a"
      },
      "source": [
        "my_list[-1]"
      ],
      "execution_count": 13,
      "outputs": [
        {
          "output_type": "execute_result",
          "data": {
            "text/plain": [
              "123"
            ]
          },
          "metadata": {
            "tags": []
          },
          "execution_count": 13
        }
      ]
    },
    {
      "cell_type": "markdown",
      "metadata": {
        "id": "JwAOzSzWB4qD"
      },
      "source": [
        "### Dictionaries --> Modified List\n",
        "\n",
        "Key: value pair\n",
        "Always surrounded by {}"
      ]
    },
    {
      "cell_type": "code",
      "metadata": {
        "colab": {
          "base_uri": "https://localhost:8080/"
        },
        "id": "caN69m8zBclk",
        "outputId": "a837bbea-30b3-4db8-88e2-1d47e96694e1"
      },
      "source": [
        "my_dict = {1: 123,\"a\" : \"abc\", 1.2 : \"ABC\", \"A\" : 526.28}\n",
        "print(my_dict)"
      ],
      "execution_count": 14,
      "outputs": [
        {
          "output_type": "stream",
          "text": [
            "{1: 123, 'a': 'abc', 1.2: 'ABC', 'A': 526.28}\n"
          ],
          "name": "stdout"
        }
      ]
    },
    {
      "cell_type": "code",
      "metadata": {
        "colab": {
          "base_uri": "https://localhost:8080/"
        },
        "id": "oHlUDnYuEGCG",
        "outputId": "76099352-b7f0-467b-ac12-92d312f423fd"
      },
      "source": [
        "my_dict[1]"
      ],
      "execution_count": 15,
      "outputs": [
        {
          "output_type": "execute_result",
          "data": {
            "text/plain": [
              "123"
            ]
          },
          "metadata": {
            "tags": []
          },
          "execution_count": 15
        }
      ]
    },
    {
      "cell_type": "code",
      "metadata": {
        "colab": {
          "base_uri": "https://localhost:8080/"
        },
        "id": "cJgIYQyAETSf",
        "outputId": "98631827-d888-4d17-b51a-a4e03b5b8f07"
      },
      "source": [
        "my_dict[\"A\"]"
      ],
      "execution_count": 16,
      "outputs": [
        {
          "output_type": "execute_result",
          "data": {
            "text/plain": [
              "526.28"
            ]
          },
          "metadata": {
            "tags": []
          },
          "execution_count": 16
        }
      ]
    },
    {
      "cell_type": "code",
      "metadata": {
        "id": "O4hvmaYZEU0A"
      },
      "source": [
        "my_team = {\"Season 18-19\" : \"team1\", \"Season 19-20\" : \"team2\", \"Season 20-21\" : \"team3\", \"Season 17-18\" : \"team 2\", \"Season 16-17\" : \"team 1\"}"
      ],
      "execution_count": 17,
      "outputs": []
    },
    {
      "cell_type": "code",
      "metadata": {
        "colab": {
          "base_uri": "https://localhost:8080/",
          "height": 35
        },
        "id": "9WlCAbGmEvf9",
        "outputId": "b3b7d5a7-7417-4d76-a081-57b0eec14d91"
      },
      "source": [
        "my_team[\"Season 18-19\"]"
      ],
      "execution_count": 18,
      "outputs": [
        {
          "output_type": "execute_result",
          "data": {
            "application/vnd.google.colaboratory.intrinsic+json": {
              "type": "string"
            },
            "text/plain": [
              "'team1'"
            ]
          },
          "metadata": {
            "tags": []
          },
          "execution_count": 18
        }
      ]
    },
    {
      "cell_type": "code",
      "metadata": {
        "colab": {
          "base_uri": "https://localhost:8080/"
        },
        "id": "kwMUbfQzFRvz",
        "outputId": "24b6a763-7573-4df5-d328-52e92d5d34bc"
      },
      "source": [
        "my_team.keys()"
      ],
      "execution_count": 21,
      "outputs": [
        {
          "output_type": "execute_result",
          "data": {
            "text/plain": [
              "dict_keys(['Season 18-19', 'Season 19-20', 'Season 20-21', 'Season 17-18', 'Season 16-17'])"
            ]
          },
          "metadata": {
            "tags": []
          },
          "execution_count": 21
        }
      ]
    },
    {
      "cell_type": "code",
      "metadata": {
        "colab": {
          "base_uri": "https://localhost:8080/"
        },
        "id": "dUs8EFByFU_o",
        "outputId": "e1b5d93c-75e6-43ea-91d8-fc32152ef8cd"
      },
      "source": [
        "my_team.values()"
      ],
      "execution_count": 22,
      "outputs": [
        {
          "output_type": "execute_result",
          "data": {
            "text/plain": [
              "dict_values(['team1', 'team2', 'team3', 'team 2', 'team 1'])"
            ]
          },
          "metadata": {
            "tags": []
          },
          "execution_count": 22
        }
      ]
    },
    {
      "cell_type": "code",
      "metadata": {
        "colab": {
          "base_uri": "https://localhost:8080/",
          "height": 35
        },
        "id": "WfkQtSRTFC4d",
        "outputId": "e2bf41c7-2846-48f8-bf0c-6d8e4b715e4e"
      },
      "source": [
        "my_str[1]"
      ],
      "execution_count": 19,
      "outputs": [
        {
          "output_type": "execute_result",
          "data": {
            "application/vnd.google.colaboratory.intrinsic+json": {
              "type": "string"
            },
            "text/plain": [
              "'b'"
            ]
          },
          "metadata": {
            "tags": []
          },
          "execution_count": 19
        }
      ]
    },
    {
      "cell_type": "code",
      "metadata": {
        "colab": {
          "base_uri": "https://localhost:8080/",
          "height": 35
        },
        "id": "oHt857iOFJGs",
        "outputId": "832dd7ab-50a2-46a6-ca4b-e9847797bc6d"
      },
      "source": [
        "my_str[-1]"
      ],
      "execution_count": 20,
      "outputs": [
        {
          "output_type": "execute_result",
          "data": {
            "application/vnd.google.colaboratory.intrinsic+json": {
              "type": "string"
            },
            "text/plain": [
              "'3'"
            ]
          },
          "metadata": {
            "tags": []
          },
          "execution_count": 20
        }
      ]
    },
    {
      "cell_type": "markdown",
      "metadata": {
        "id": "0PuaKsSSGW-f"
      },
      "source": [
        "## Comparison and if, if-else statements "
      ]
    },
    {
      "cell_type": "markdown",
      "metadata": {
        "id": "6f-YudERGeyA"
      },
      "source": [
        "### Comparison in python\n",
        "\n",
        "- Equals --> **==**\n",
        "- Not equals --> **!=**\n",
        "- Greater than --> **>**\n",
        "- Less than --> **<**\n",
        "- Greater than or equal --> **>=**\n",
        "- Less than or equal --> **<=**"
      ]
    },
    {
      "cell_type": "code",
      "metadata": {
        "id": "VxvA8_TjFLL9"
      },
      "source": [
        "# Values for comparison:\n",
        "season1Goals = 190\n",
        "season2Goals = 187\n",
        "season3Goals = 213\n",
        "season4Goals = 190"
      ],
      "execution_count": 23,
      "outputs": []
    },
    {
      "cell_type": "code",
      "metadata": {
        "colab": {
          "base_uri": "https://localhost:8080/"
        },
        "id": "jAPq0kOtGuVh",
        "outputId": "5586e3e2-d2c7-49e5-8344-7b0c142bca83"
      },
      "source": [
        "# Equality comparison\n",
        "print(season1Goals == season2Goals)\n",
        "print(season1Goals == season4Goals)"
      ],
      "execution_count": 24,
      "outputs": [
        {
          "output_type": "stream",
          "text": [
            "False\n",
            "True\n"
          ],
          "name": "stdout"
        }
      ]
    },
    {
      "cell_type": "code",
      "metadata": {
        "colab": {
          "base_uri": "https://localhost:8080/"
        },
        "id": "XivfD4dOGv1K",
        "outputId": "1685a83c-0eaf-44ce-bf4d-0f4e5d88338f"
      },
      "source": [
        "# Equality comparison\n",
        "print(season1Goals != season2Goals)\n",
        "print(season1Goals != season4Goals)"
      ],
      "execution_count": 25,
      "outputs": [
        {
          "output_type": "stream",
          "text": [
            "True\n",
            "False\n"
          ],
          "name": "stdout"
        }
      ]
    },
    {
      "cell_type": "code",
      "metadata": {
        "colab": {
          "base_uri": "https://localhost:8080/"
        },
        "id": "qMJGiKibGybX",
        "outputId": "2065f7d7-18d6-4853-8985-403bdc804114"
      },
      "source": [
        "# Greater than comparison\n",
        "print(season2Goals > season3Goals)\n",
        "print(season1Goals >= season4Goals)"
      ],
      "execution_count": 26,
      "outputs": [
        {
          "output_type": "stream",
          "text": [
            "False\n",
            "True\n"
          ],
          "name": "stdout"
        }
      ]
    },
    {
      "cell_type": "code",
      "metadata": {
        "colab": {
          "base_uri": "https://localhost:8080/"
        },
        "id": "0xifkm7YGzx-",
        "outputId": "2214d73a-d172-44b7-ab57-f0bed696e982"
      },
      "source": [
        "# Less than comparison\n",
        "print(season2Goals <= season3Goals)\n",
        "print(season1Goals < season4Goals)"
      ],
      "execution_count": 27,
      "outputs": [
        {
          "output_type": "stream",
          "text": [
            "True\n",
            "False\n"
          ],
          "name": "stdout"
        }
      ]
    },
    {
      "cell_type": "markdown",
      "metadata": {
        "id": "kssewxgLG6en"
      },
      "source": [
        "### if and if-else"
      ]
    },
    {
      "cell_type": "code",
      "metadata": {
        "colab": {
          "base_uri": "https://localhost:8080/"
        },
        "id": "QY8-ClzeG4ZY",
        "outputId": "9c3b1d7b-ae2d-403d-cc13-76f23138bf77"
      },
      "source": [
        "# If Statement:\n",
        "if season3Goals < season2Goals:\n",
        "    print(\"Season 3 had more goals than Season 2\")\n",
        "1 + 2"
      ],
      "execution_count": 28,
      "outputs": [
        {
          "output_type": "execute_result",
          "data": {
            "text/plain": [
              "3"
            ]
          },
          "metadata": {
            "tags": []
          },
          "execution_count": 28
        }
      ]
    },
    {
      "cell_type": "code",
      "metadata": {
        "id": "j85Q2wcUG9Zj"
      },
      "source": [
        "# If Statement:\n",
        "if season1Goals > season3Goals:\n",
        "    print(\"Season 1 had more goals than Season 3\")"
      ],
      "execution_count": 29,
      "outputs": []
    },
    {
      "cell_type": "code",
      "metadata": {
        "colab": {
          "base_uri": "https://localhost:8080/"
        },
        "id": "O6rinZ4HG-pf",
        "outputId": "4a4ee583-3615-47d9-c761-0f3a2bb8fb98"
      },
      "source": [
        "# If Statement:\n",
        "if season1Goals >= season3Goals:\n",
        "    print(\"Season 1 had more goals than Season 3\")\n",
        "else:\n",
        "    print(\"Season 3 had more goals than Season 1\")"
      ],
      "execution_count": 30,
      "outputs": [
        {
          "output_type": "stream",
          "text": [
            "Season 3 had more goals than Season 1\n"
          ],
          "name": "stdout"
        }
      ]
    },
    {
      "cell_type": "markdown",
      "metadata": {
        "id": "wh6QbQARHBtP"
      },
      "source": [
        "## Loops in python\n",
        "\n",
        "### Definition of a loop\n",
        "A loop, in any programming/scripting langauge, is the task of performing a set of tasks repeatedly, either \"n\" times or until a certain condition is met. There are, majorly, 2 types of loops in python:\n",
        "1. \"for\"\n",
        "2. \"while\""
      ]
    },
    {
      "cell_type": "markdown",
      "metadata": {
        "id": "FO-Jqyv3HJ1I"
      },
      "source": [
        "### \"for\" loop"
      ]
    },
    {
      "cell_type": "code",
      "metadata": {
        "colab": {
          "base_uri": "https://localhost:8080/"
        },
        "id": "ga6Gpz_fHAGi",
        "outputId": "b6af0266-fb9b-47b8-95dd-7d3eae574c84"
      },
      "source": [
        "# Let's say that I want to write the numbers 1 to 10. How would I go about it using only the print statement\n",
        "print(1)\n",
        "print(2)\n",
        "print(3)\n",
        "print(4)\n",
        "print(5)\n",
        "print(6)\n",
        "print(7)\n",
        "print(8)\n",
        "print(9)\n",
        "print(10)"
      ],
      "execution_count": 31,
      "outputs": [
        {
          "output_type": "stream",
          "text": [
            "1\n",
            "2\n",
            "3\n",
            "4\n",
            "5\n",
            "6\n",
            "7\n",
            "8\n",
            "9\n",
            "10\n"
          ],
          "name": "stdout"
        }
      ]
    },
    {
      "cell_type": "code",
      "metadata": {
        "colab": {
          "base_uri": "https://localhost:8080/"
        },
        "id": "rVYmy4-QHOy_",
        "outputId": "f482d59f-21a8-4257-d1a9-262cf4fa74fc"
      },
      "source": [
        "# Now, let's say that I want to write up to a 1000 numbers!\n",
        "# It is fairly difficult and frankly ineffective to write 1000 print statements. Let's see how the \"for\" loop can help us out.\n",
        "\n",
        "# First let's start with 10 numbers:\n",
        "\n",
        "for i in range(10):  # range(10) is equivalent to [0, 1, 2, 3, 4, 5, 6, 7, 8, 9]\n",
        "    print(i + 1)\n",
        "print(\"We are outside the loop\")\n",
        "# Voila! Only 2 lines of code required to write the numbers 1 to 10! Now, "
      ],
      "execution_count": 32,
      "outputs": [
        {
          "output_type": "stream",
          "text": [
            "1\n",
            "2\n",
            "3\n",
            "4\n",
            "5\n",
            "6\n",
            "7\n",
            "8\n",
            "9\n",
            "10\n",
            "We are outside the loop\n"
          ],
          "name": "stdout"
        }
      ]
    },
    {
      "cell_type": "code",
      "metadata": {
        "colab": {
          "base_uri": "https://localhost:8080/"
        },
        "id": "bf7AqpU3HRr7",
        "outputId": "cda3cd10-1921-4af6-cbd0-b25c5baa013e"
      },
      "source": [
        "# let's look at that 1000 times thing\n",
        "for i in range(1000):\n",
        "    print(i + 1)\n",
        "print(\"We are outside the loop\")"
      ],
      "execution_count": 33,
      "outputs": [
        {
          "output_type": "stream",
          "text": [
            "1\n",
            "2\n",
            "3\n",
            "4\n",
            "5\n",
            "6\n",
            "7\n",
            "8\n",
            "9\n",
            "10\n",
            "11\n",
            "12\n",
            "13\n",
            "14\n",
            "15\n",
            "16\n",
            "17\n",
            "18\n",
            "19\n",
            "20\n",
            "21\n",
            "22\n",
            "23\n",
            "24\n",
            "25\n",
            "26\n",
            "27\n",
            "28\n",
            "29\n",
            "30\n",
            "31\n",
            "32\n",
            "33\n",
            "34\n",
            "35\n",
            "36\n",
            "37\n",
            "38\n",
            "39\n",
            "40\n",
            "41\n",
            "42\n",
            "43\n",
            "44\n",
            "45\n",
            "46\n",
            "47\n",
            "48\n",
            "49\n",
            "50\n",
            "51\n",
            "52\n",
            "53\n",
            "54\n",
            "55\n",
            "56\n",
            "57\n",
            "58\n",
            "59\n",
            "60\n",
            "61\n",
            "62\n",
            "63\n",
            "64\n",
            "65\n",
            "66\n",
            "67\n",
            "68\n",
            "69\n",
            "70\n",
            "71\n",
            "72\n",
            "73\n",
            "74\n",
            "75\n",
            "76\n",
            "77\n",
            "78\n",
            "79\n",
            "80\n",
            "81\n",
            "82\n",
            "83\n",
            "84\n",
            "85\n",
            "86\n",
            "87\n",
            "88\n",
            "89\n",
            "90\n",
            "91\n",
            "92\n",
            "93\n",
            "94\n",
            "95\n",
            "96\n",
            "97\n",
            "98\n",
            "99\n",
            "100\n",
            "101\n",
            "102\n",
            "103\n",
            "104\n",
            "105\n",
            "106\n",
            "107\n",
            "108\n",
            "109\n",
            "110\n",
            "111\n",
            "112\n",
            "113\n",
            "114\n",
            "115\n",
            "116\n",
            "117\n",
            "118\n",
            "119\n",
            "120\n",
            "121\n",
            "122\n",
            "123\n",
            "124\n",
            "125\n",
            "126\n",
            "127\n",
            "128\n",
            "129\n",
            "130\n",
            "131\n",
            "132\n",
            "133\n",
            "134\n",
            "135\n",
            "136\n",
            "137\n",
            "138\n",
            "139\n",
            "140\n",
            "141\n",
            "142\n",
            "143\n",
            "144\n",
            "145\n",
            "146\n",
            "147\n",
            "148\n",
            "149\n",
            "150\n",
            "151\n",
            "152\n",
            "153\n",
            "154\n",
            "155\n",
            "156\n",
            "157\n",
            "158\n",
            "159\n",
            "160\n",
            "161\n",
            "162\n",
            "163\n",
            "164\n",
            "165\n",
            "166\n",
            "167\n",
            "168\n",
            "169\n",
            "170\n",
            "171\n",
            "172\n",
            "173\n",
            "174\n",
            "175\n",
            "176\n",
            "177\n",
            "178\n",
            "179\n",
            "180\n",
            "181\n",
            "182\n",
            "183\n",
            "184\n",
            "185\n",
            "186\n",
            "187\n",
            "188\n",
            "189\n",
            "190\n",
            "191\n",
            "192\n",
            "193\n",
            "194\n",
            "195\n",
            "196\n",
            "197\n",
            "198\n",
            "199\n",
            "200\n",
            "201\n",
            "202\n",
            "203\n",
            "204\n",
            "205\n",
            "206\n",
            "207\n",
            "208\n",
            "209\n",
            "210\n",
            "211\n",
            "212\n",
            "213\n",
            "214\n",
            "215\n",
            "216\n",
            "217\n",
            "218\n",
            "219\n",
            "220\n",
            "221\n",
            "222\n",
            "223\n",
            "224\n",
            "225\n",
            "226\n",
            "227\n",
            "228\n",
            "229\n",
            "230\n",
            "231\n",
            "232\n",
            "233\n",
            "234\n",
            "235\n",
            "236\n",
            "237\n",
            "238\n",
            "239\n",
            "240\n",
            "241\n",
            "242\n",
            "243\n",
            "244\n",
            "245\n",
            "246\n",
            "247\n",
            "248\n",
            "249\n",
            "250\n",
            "251\n",
            "252\n",
            "253\n",
            "254\n",
            "255\n",
            "256\n",
            "257\n",
            "258\n",
            "259\n",
            "260\n",
            "261\n",
            "262\n",
            "263\n",
            "264\n",
            "265\n",
            "266\n",
            "267\n",
            "268\n",
            "269\n",
            "270\n",
            "271\n",
            "272\n",
            "273\n",
            "274\n",
            "275\n",
            "276\n",
            "277\n",
            "278\n",
            "279\n",
            "280\n",
            "281\n",
            "282\n",
            "283\n",
            "284\n",
            "285\n",
            "286\n",
            "287\n",
            "288\n",
            "289\n",
            "290\n",
            "291\n",
            "292\n",
            "293\n",
            "294\n",
            "295\n",
            "296\n",
            "297\n",
            "298\n",
            "299\n",
            "300\n",
            "301\n",
            "302\n",
            "303\n",
            "304\n",
            "305\n",
            "306\n",
            "307\n",
            "308\n",
            "309\n",
            "310\n",
            "311\n",
            "312\n",
            "313\n",
            "314\n",
            "315\n",
            "316\n",
            "317\n",
            "318\n",
            "319\n",
            "320\n",
            "321\n",
            "322\n",
            "323\n",
            "324\n",
            "325\n",
            "326\n",
            "327\n",
            "328\n",
            "329\n",
            "330\n",
            "331\n",
            "332\n",
            "333\n",
            "334\n",
            "335\n",
            "336\n",
            "337\n",
            "338\n",
            "339\n",
            "340\n",
            "341\n",
            "342\n",
            "343\n",
            "344\n",
            "345\n",
            "346\n",
            "347\n",
            "348\n",
            "349\n",
            "350\n",
            "351\n",
            "352\n",
            "353\n",
            "354\n",
            "355\n",
            "356\n",
            "357\n",
            "358\n",
            "359\n",
            "360\n",
            "361\n",
            "362\n",
            "363\n",
            "364\n",
            "365\n",
            "366\n",
            "367\n",
            "368\n",
            "369\n",
            "370\n",
            "371\n",
            "372\n",
            "373\n",
            "374\n",
            "375\n",
            "376\n",
            "377\n",
            "378\n",
            "379\n",
            "380\n",
            "381\n",
            "382\n",
            "383\n",
            "384\n",
            "385\n",
            "386\n",
            "387\n",
            "388\n",
            "389\n",
            "390\n",
            "391\n",
            "392\n",
            "393\n",
            "394\n",
            "395\n",
            "396\n",
            "397\n",
            "398\n",
            "399\n",
            "400\n",
            "401\n",
            "402\n",
            "403\n",
            "404\n",
            "405\n",
            "406\n",
            "407\n",
            "408\n",
            "409\n",
            "410\n",
            "411\n",
            "412\n",
            "413\n",
            "414\n",
            "415\n",
            "416\n",
            "417\n",
            "418\n",
            "419\n",
            "420\n",
            "421\n",
            "422\n",
            "423\n",
            "424\n",
            "425\n",
            "426\n",
            "427\n",
            "428\n",
            "429\n",
            "430\n",
            "431\n",
            "432\n",
            "433\n",
            "434\n",
            "435\n",
            "436\n",
            "437\n",
            "438\n",
            "439\n",
            "440\n",
            "441\n",
            "442\n",
            "443\n",
            "444\n",
            "445\n",
            "446\n",
            "447\n",
            "448\n",
            "449\n",
            "450\n",
            "451\n",
            "452\n",
            "453\n",
            "454\n",
            "455\n",
            "456\n",
            "457\n",
            "458\n",
            "459\n",
            "460\n",
            "461\n",
            "462\n",
            "463\n",
            "464\n",
            "465\n",
            "466\n",
            "467\n",
            "468\n",
            "469\n",
            "470\n",
            "471\n",
            "472\n",
            "473\n",
            "474\n",
            "475\n",
            "476\n",
            "477\n",
            "478\n",
            "479\n",
            "480\n",
            "481\n",
            "482\n",
            "483\n",
            "484\n",
            "485\n",
            "486\n",
            "487\n",
            "488\n",
            "489\n",
            "490\n",
            "491\n",
            "492\n",
            "493\n",
            "494\n",
            "495\n",
            "496\n",
            "497\n",
            "498\n",
            "499\n",
            "500\n",
            "501\n",
            "502\n",
            "503\n",
            "504\n",
            "505\n",
            "506\n",
            "507\n",
            "508\n",
            "509\n",
            "510\n",
            "511\n",
            "512\n",
            "513\n",
            "514\n",
            "515\n",
            "516\n",
            "517\n",
            "518\n",
            "519\n",
            "520\n",
            "521\n",
            "522\n",
            "523\n",
            "524\n",
            "525\n",
            "526\n",
            "527\n",
            "528\n",
            "529\n",
            "530\n",
            "531\n",
            "532\n",
            "533\n",
            "534\n",
            "535\n",
            "536\n",
            "537\n",
            "538\n",
            "539\n",
            "540\n",
            "541\n",
            "542\n",
            "543\n",
            "544\n",
            "545\n",
            "546\n",
            "547\n",
            "548\n",
            "549\n",
            "550\n",
            "551\n",
            "552\n",
            "553\n",
            "554\n",
            "555\n",
            "556\n",
            "557\n",
            "558\n",
            "559\n",
            "560\n",
            "561\n",
            "562\n",
            "563\n",
            "564\n",
            "565\n",
            "566\n",
            "567\n",
            "568\n",
            "569\n",
            "570\n",
            "571\n",
            "572\n",
            "573\n",
            "574\n",
            "575\n",
            "576\n",
            "577\n",
            "578\n",
            "579\n",
            "580\n",
            "581\n",
            "582\n",
            "583\n",
            "584\n",
            "585\n",
            "586\n",
            "587\n",
            "588\n",
            "589\n",
            "590\n",
            "591\n",
            "592\n",
            "593\n",
            "594\n",
            "595\n",
            "596\n",
            "597\n",
            "598\n",
            "599\n",
            "600\n",
            "601\n",
            "602\n",
            "603\n",
            "604\n",
            "605\n",
            "606\n",
            "607\n",
            "608\n",
            "609\n",
            "610\n",
            "611\n",
            "612\n",
            "613\n",
            "614\n",
            "615\n",
            "616\n",
            "617\n",
            "618\n",
            "619\n",
            "620\n",
            "621\n",
            "622\n",
            "623\n",
            "624\n",
            "625\n",
            "626\n",
            "627\n",
            "628\n",
            "629\n",
            "630\n",
            "631\n",
            "632\n",
            "633\n",
            "634\n",
            "635\n",
            "636\n",
            "637\n",
            "638\n",
            "639\n",
            "640\n",
            "641\n",
            "642\n",
            "643\n",
            "644\n",
            "645\n",
            "646\n",
            "647\n",
            "648\n",
            "649\n",
            "650\n",
            "651\n",
            "652\n",
            "653\n",
            "654\n",
            "655\n",
            "656\n",
            "657\n",
            "658\n",
            "659\n",
            "660\n",
            "661\n",
            "662\n",
            "663\n",
            "664\n",
            "665\n",
            "666\n",
            "667\n",
            "668\n",
            "669\n",
            "670\n",
            "671\n",
            "672\n",
            "673\n",
            "674\n",
            "675\n",
            "676\n",
            "677\n",
            "678\n",
            "679\n",
            "680\n",
            "681\n",
            "682\n",
            "683\n",
            "684\n",
            "685\n",
            "686\n",
            "687\n",
            "688\n",
            "689\n",
            "690\n",
            "691\n",
            "692\n",
            "693\n",
            "694\n",
            "695\n",
            "696\n",
            "697\n",
            "698\n",
            "699\n",
            "700\n",
            "701\n",
            "702\n",
            "703\n",
            "704\n",
            "705\n",
            "706\n",
            "707\n",
            "708\n",
            "709\n",
            "710\n",
            "711\n",
            "712\n",
            "713\n",
            "714\n",
            "715\n",
            "716\n",
            "717\n",
            "718\n",
            "719\n",
            "720\n",
            "721\n",
            "722\n",
            "723\n",
            "724\n",
            "725\n",
            "726\n",
            "727\n",
            "728\n",
            "729\n",
            "730\n",
            "731\n",
            "732\n",
            "733\n",
            "734\n",
            "735\n",
            "736\n",
            "737\n",
            "738\n",
            "739\n",
            "740\n",
            "741\n",
            "742\n",
            "743\n",
            "744\n",
            "745\n",
            "746\n",
            "747\n",
            "748\n",
            "749\n",
            "750\n",
            "751\n",
            "752\n",
            "753\n",
            "754\n",
            "755\n",
            "756\n",
            "757\n",
            "758\n",
            "759\n",
            "760\n",
            "761\n",
            "762\n",
            "763\n",
            "764\n",
            "765\n",
            "766\n",
            "767\n",
            "768\n",
            "769\n",
            "770\n",
            "771\n",
            "772\n",
            "773\n",
            "774\n",
            "775\n",
            "776\n",
            "777\n",
            "778\n",
            "779\n",
            "780\n",
            "781\n",
            "782\n",
            "783\n",
            "784\n",
            "785\n",
            "786\n",
            "787\n",
            "788\n",
            "789\n",
            "790\n",
            "791\n",
            "792\n",
            "793\n",
            "794\n",
            "795\n",
            "796\n",
            "797\n",
            "798\n",
            "799\n",
            "800\n",
            "801\n",
            "802\n",
            "803\n",
            "804\n",
            "805\n",
            "806\n",
            "807\n",
            "808\n",
            "809\n",
            "810\n",
            "811\n",
            "812\n",
            "813\n",
            "814\n",
            "815\n",
            "816\n",
            "817\n",
            "818\n",
            "819\n",
            "820\n",
            "821\n",
            "822\n",
            "823\n",
            "824\n",
            "825\n",
            "826\n",
            "827\n",
            "828\n",
            "829\n",
            "830\n",
            "831\n",
            "832\n",
            "833\n",
            "834\n",
            "835\n",
            "836\n",
            "837\n",
            "838\n",
            "839\n",
            "840\n",
            "841\n",
            "842\n",
            "843\n",
            "844\n",
            "845\n",
            "846\n",
            "847\n",
            "848\n",
            "849\n",
            "850\n",
            "851\n",
            "852\n",
            "853\n",
            "854\n",
            "855\n",
            "856\n",
            "857\n",
            "858\n",
            "859\n",
            "860\n",
            "861\n",
            "862\n",
            "863\n",
            "864\n",
            "865\n",
            "866\n",
            "867\n",
            "868\n",
            "869\n",
            "870\n",
            "871\n",
            "872\n",
            "873\n",
            "874\n",
            "875\n",
            "876\n",
            "877\n",
            "878\n",
            "879\n",
            "880\n",
            "881\n",
            "882\n",
            "883\n",
            "884\n",
            "885\n",
            "886\n",
            "887\n",
            "888\n",
            "889\n",
            "890\n",
            "891\n",
            "892\n",
            "893\n",
            "894\n",
            "895\n",
            "896\n",
            "897\n",
            "898\n",
            "899\n",
            "900\n",
            "901\n",
            "902\n",
            "903\n",
            "904\n",
            "905\n",
            "906\n",
            "907\n",
            "908\n",
            "909\n",
            "910\n",
            "911\n",
            "912\n",
            "913\n",
            "914\n",
            "915\n",
            "916\n",
            "917\n",
            "918\n",
            "919\n",
            "920\n",
            "921\n",
            "922\n",
            "923\n",
            "924\n",
            "925\n",
            "926\n",
            "927\n",
            "928\n",
            "929\n",
            "930\n",
            "931\n",
            "932\n",
            "933\n",
            "934\n",
            "935\n",
            "936\n",
            "937\n",
            "938\n",
            "939\n",
            "940\n",
            "941\n",
            "942\n",
            "943\n",
            "944\n",
            "945\n",
            "946\n",
            "947\n",
            "948\n",
            "949\n",
            "950\n",
            "951\n",
            "952\n",
            "953\n",
            "954\n",
            "955\n",
            "956\n",
            "957\n",
            "958\n",
            "959\n",
            "960\n",
            "961\n",
            "962\n",
            "963\n",
            "964\n",
            "965\n",
            "966\n",
            "967\n",
            "968\n",
            "969\n",
            "970\n",
            "971\n",
            "972\n",
            "973\n",
            "974\n",
            "975\n",
            "976\n",
            "977\n",
            "978\n",
            "979\n",
            "980\n",
            "981\n",
            "982\n",
            "983\n",
            "984\n",
            "985\n",
            "986\n",
            "987\n",
            "988\n",
            "989\n",
            "990\n",
            "991\n",
            "992\n",
            "993\n",
            "994\n",
            "995\n",
            "996\n",
            "997\n",
            "998\n",
            "999\n",
            "1000\n",
            "We are outside the loop\n"
          ],
          "name": "stdout"
        }
      ]
    },
    {
      "cell_type": "code",
      "metadata": {
        "colab": {
          "base_uri": "https://localhost:8080/"
        },
        "id": "UvBHWINBHT0Y",
        "outputId": "cc5f10bb-79fe-4cc9-9b5d-eeaa08b3b455"
      },
      "source": [
        "# Now, let's put this in a football analytics perspective\n",
        "# Let's take for example Mumbai City FC's results in the league stage of ISL 2020-21 and put it in a list\n",
        "\n",
        "mcfc_results = [\"L\", \"W\", \"W\", \"W\", \"W\", \"D\", \"W\", \"W\", \"W\", \"W\", \"D\", \"W\", \"D\", \"L\", \"W\", \"D\", \"L\", \"L\", \"W\", \"W\"]\n",
        "\n",
        "# Use a for loop to count the number of wins:\n",
        "n_wins = 0\n",
        "for m_result in mcfc_results:\n",
        "    print(\"Result:\", m_result)\n",
        "    if m_result == \"W\":\n",
        "        n_wins += 1\n",
        "\n",
        "print(\"\\nTotal Wins for MCFC:\", n_wins)\n",
        "print(\"\\nTotal Matches for MCFC:\", len(mcfc_results))\n",
        "print(\"\\nWin %age MCFC:\", n_wins/len(mcfc_results)*100)"
      ],
      "execution_count": 34,
      "outputs": [
        {
          "output_type": "stream",
          "text": [
            "Result: L\n",
            "Result: W\n",
            "Result: W\n",
            "Result: W\n",
            "Result: W\n",
            "Result: D\n",
            "Result: W\n",
            "Result: W\n",
            "Result: W\n",
            "Result: W\n",
            "Result: D\n",
            "Result: W\n",
            "Result: D\n",
            "Result: L\n",
            "Result: W\n",
            "Result: D\n",
            "Result: L\n",
            "Result: L\n",
            "Result: W\n",
            "Result: W\n",
            "\n",
            "Total Wins for MCFC: 12\n",
            "\n",
            "Total Matches for MCFC: 20\n",
            "\n",
            "Win %age MCFC: 60.0\n"
          ],
          "name": "stdout"
        }
      ]
    },
    {
      "cell_type": "markdown",
      "metadata": {
        "id": "t9aUlxedHe7P"
      },
      "source": [
        "### \"while\" loop\n",
        "This loop essentially performs/executes a given set of commands until a certain condition is met. The condition here will be provided by us."
      ]
    },
    {
      "cell_type": "code",
      "metadata": {
        "colab": {
          "base_uri": "https://localhost:8080/"
        },
        "id": "pCb4o8zaHZoA",
        "outputId": "736df87e-218c-4abf-a6be-e4095e665e94"
      },
      "source": [
        "# Let's take a look at a very simple example: Print the results for the first 6 matches of MCFC\n",
        "i = 0  # Initializing\n",
        "while i < 6:\n",
        "    print(\"Result:\", mcfc_results[i])\n",
        "    i += 1"
      ],
      "execution_count": 35,
      "outputs": [
        {
          "output_type": "stream",
          "text": [
            "Result: L\n",
            "Result: W\n",
            "Result: W\n",
            "Result: W\n",
            "Result: W\n",
            "Result: D\n"
          ],
          "name": "stdout"
        }
      ]
    },
    {
      "cell_type": "code",
      "metadata": {
        "colab": {
          "base_uri": "https://localhost:8080/"
        },
        "id": "IcHURIcSHjwf",
        "outputId": "4493d25c-7741-498a-89dd-686280e80843"
      },
      "source": [
        "# Let's take a look at which match gave the first \"Draw\" result for MCFC:\n",
        "i = 0\n",
        "m_result = \"\"\n",
        "while m_result != \"D\":\n",
        "    m_result = mcfc_results[i]\n",
        "    i += 1\n",
        "print(\"First match drawn MCFC was match no.\", i)"
      ],
      "execution_count": 36,
      "outputs": [
        {
          "output_type": "stream",
          "text": [
            "First match drawn MCFC was match no. 6\n"
          ],
          "name": "stdout"
        }
      ]
    },
    {
      "cell_type": "code",
      "metadata": {
        "id": "R4NPd-nKHlEO"
      },
      "source": [
        ""
      ],
      "execution_count": null,
      "outputs": []
    }
  ]
}