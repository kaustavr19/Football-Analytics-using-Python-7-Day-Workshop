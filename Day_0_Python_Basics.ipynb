{
  "nbformat": 4,
  "nbformat_minor": 0,
  "metadata": {
    "colab": {
      "name": "Day 0 - Python Basics",
      "provenance": [],
      "collapsed_sections": [],
      "authorship_tag": "ABX9TyOj+gqimYQVecIVwDJzilQl",
      "include_colab_link": true
    },
    "kernelspec": {
      "name": "python3",
      "display_name": "Python 3"
    },
    "language_info": {
      "name": "python"
    }
  },
  "cells": [
    {
      "cell_type": "markdown",
      "metadata": {
        "id": "view-in-github",
        "colab_type": "text"
      },
      "source": [
        "<a href=\"https://colab.research.google.com/github/kaustavr19/Football-Analytics-using-Python-7-Day-Workshop/blob/main/Day_0_Python_Basics.ipynb\" target=\"_parent\"><img src=\"https://colab.research.google.com/assets/colab-badge.svg\" alt=\"Open In Colab\"/></a>"
      ]
    },
    {
      "cell_type": "markdown",
      "metadata": {
        "id": "PvliMWlmPbXb"
      },
      "source": [
        "## Data Type in Python\n",
        "\n",
        "1. Integer\n",
        "2. Float(Fractions)\n",
        "3. String\n",
        "4. Boolean\n",
        "5. Datetime"
      ]
    },
    {
      "cell_type": "code",
      "metadata": {
        "colab": {
          "base_uri": "https://localhost:8080/"
        },
        "id": "oG6KqThlNSso",
        "outputId": "fe236fde-9f2d-4fc8-e17a-cf49e2ed3c17"
      },
      "source": [
        "print(\"This is an Integer number\")\n",
        "1"
      ],
      "execution_count": null,
      "outputs": [
        {
          "output_type": "stream",
          "text": [
            "This is an Integer number\n"
          ],
          "name": "stdout"
        },
        {
          "output_type": "execute_result",
          "data": {
            "text/plain": [
              "1"
            ]
          },
          "metadata": {
            "tags": []
          },
          "execution_count": 1
        }
      ]
    },
    {
      "cell_type": "code",
      "metadata": {
        "colab": {
          "base_uri": "https://localhost:8080/"
        },
        "id": "ykjjBvwsP107",
        "outputId": "bad6d9b3-8509-4fbb-ae9a-07cddee83459"
      },
      "source": [
        "print(\"This is a Float number\")\n",
        "1.5"
      ],
      "execution_count": null,
      "outputs": [
        {
          "output_type": "stream",
          "text": [
            "This is a Float number\n"
          ],
          "name": "stdout"
        },
        {
          "output_type": "execute_result",
          "data": {
            "text/plain": [
              "1.5"
            ]
          },
          "metadata": {
            "tags": []
          },
          "execution_count": 2
        }
      ]
    },
    {
      "cell_type": "code",
      "metadata": {
        "colab": {
          "base_uri": "https://localhost:8080/"
        },
        "id": "a6cNc7-WQCyC",
        "outputId": "80982411-c853-4056-b34e-c92e9984fb25"
      },
      "source": [
        "print(\"This is also a Float number\")\n",
        "1.0"
      ],
      "execution_count": null,
      "outputs": [
        {
          "output_type": "stream",
          "text": [
            "This is also a Float number\n"
          ],
          "name": "stdout"
        },
        {
          "output_type": "execute_result",
          "data": {
            "text/plain": [
              "1.0"
            ]
          },
          "metadata": {
            "tags": []
          },
          "execution_count": 3
        }
      ]
    },
    {
      "cell_type": "code",
      "metadata": {
        "colab": {
          "base_uri": "https://localhost:8080/"
        },
        "id": "I-P3_I9vQMOC",
        "outputId": "e1beffe5-290b-4fe8-b879-c4edca80fa2e"
      },
      "source": [
        "type(1.0)"
      ],
      "execution_count": null,
      "outputs": [
        {
          "output_type": "execute_result",
          "data": {
            "text/plain": [
              "float"
            ]
          },
          "metadata": {
            "tags": []
          },
          "execution_count": 6
        }
      ]
    },
    {
      "cell_type": "code",
      "metadata": {
        "colab": {
          "base_uri": "https://localhost:8080/"
        },
        "id": "eI3YscMJQb2Z",
        "outputId": "6b5c6f7c-543f-4d1b-e446-31bfdc474b1e"
      },
      "source": [
        "type(1)"
      ],
      "execution_count": null,
      "outputs": [
        {
          "output_type": "execute_result",
          "data": {
            "text/plain": [
              "int"
            ]
          },
          "metadata": {
            "tags": []
          },
          "execution_count": 7
        }
      ]
    },
    {
      "cell_type": "code",
      "metadata": {
        "colab": {
          "base_uri": "https://localhost:8080/",
          "height": 52
        },
        "id": "tra90v_iQNff",
        "outputId": "dc655063-c32a-49fa-e13b-c7068ff77d10"
      },
      "source": [
        "print(\"This is a String\")\n",
        "\"abc\""
      ],
      "execution_count": null,
      "outputs": [
        {
          "output_type": "stream",
          "text": [
            "This is a String\n"
          ],
          "name": "stdout"
        },
        {
          "output_type": "execute_result",
          "data": {
            "application/vnd.google.colaboratory.intrinsic+json": {
              "type": "string"
            },
            "text/plain": [
              "'abc'"
            ]
          },
          "metadata": {
            "tags": []
          },
          "execution_count": 8
        }
      ]
    },
    {
      "cell_type": "code",
      "metadata": {
        "colab": {
          "base_uri": "https://localhost:8080/"
        },
        "id": "z7PLcsCjQhcV",
        "outputId": "83da7d65-6cfa-49fe-cdef-1fbfcc34c102"
      },
      "source": [
        "type(\"abc\")"
      ],
      "execution_count": null,
      "outputs": [
        {
          "output_type": "execute_result",
          "data": {
            "text/plain": [
              "str"
            ]
          },
          "metadata": {
            "tags": []
          },
          "execution_count": 9
        }
      ]
    },
    {
      "cell_type": "code",
      "metadata": {
        "colab": {
          "base_uri": "https://localhost:8080/"
        },
        "id": "ZrAbh6mpQtbd",
        "outputId": "2d03555e-5087-45c5-c537-050d12f528ca"
      },
      "source": [
        "type(123)"
      ],
      "execution_count": null,
      "outputs": [
        {
          "output_type": "execute_result",
          "data": {
            "text/plain": [
              "int"
            ]
          },
          "metadata": {
            "tags": []
          },
          "execution_count": 10
        }
      ]
    },
    {
      "cell_type": "code",
      "metadata": {
        "colab": {
          "base_uri": "https://localhost:8080/"
        },
        "id": "FxgjSwBFQvDY",
        "outputId": "4dddc356-6cd1-4ec2-9e1d-b943eafb2958"
      },
      "source": [
        "type('123')"
      ],
      "execution_count": null,
      "outputs": [
        {
          "output_type": "execute_result",
          "data": {
            "text/plain": [
              "str"
            ]
          },
          "metadata": {
            "tags": []
          },
          "execution_count": 11
        }
      ]
    },
    {
      "cell_type": "code",
      "metadata": {
        "colab": {
          "base_uri": "https://localhost:8080/"
        },
        "id": "NPiwOAysQyHC",
        "outputId": "aaaea417-9826-4b04-b292-057f5f8ab73b"
      },
      "source": [
        "print(\"Theses are the two boolean values\")\n",
        "print(True)\n",
        "print(False)"
      ],
      "execution_count": null,
      "outputs": [
        {
          "output_type": "stream",
          "text": [
            "Theses are the two boolean values\n",
            "True\n",
            "False\n"
          ],
          "name": "stdout"
        }
      ]
    },
    {
      "cell_type": "markdown",
      "metadata": {
        "id": "dYi82P-8WH75"
      },
      "source": [
        "## Mathematical Operations"
      ]
    },
    {
      "cell_type": "markdown",
      "metadata": {
        "id": "aZxd1_yUYfGX"
      },
      "source": [
        "### Integer Operations"
      ]
    },
    {
      "cell_type": "code",
      "metadata": {
        "colab": {
          "base_uri": "https://localhost:8080/"
        },
        "id": "GRy-RPJ2WMff",
        "outputId": "19dd0d6b-9019-4cf8-9ffa-060def6cfd63"
      },
      "source": [
        "#Two integers:\n",
        "print(\"Addition --> \",1+2)\n",
        "print(\"Subtraction --> \",1-2)\n",
        "print(\"Multiplication --> \",1*2)\n",
        "print(\"Divison --> \",1/2)\n",
        "print(\"Power --> \",1**2)\n",
        "print(\"Rounding --> \",round(1**2,2))"
      ],
      "execution_count": null,
      "outputs": [
        {
          "output_type": "stream",
          "text": [
            "Addition -->  3\n",
            "Subtraction -->  -1\n",
            "Multiplication -->  2\n",
            "Divison -->  0.5\n",
            "Power -->  1\n",
            "Rounding -->  1\n"
          ],
          "name": "stdout"
        }
      ]
    },
    {
      "cell_type": "markdown",
      "metadata": {
        "id": "glZdYV4SZCmo"
      },
      "source": [
        "### Floating Operations"
      ]
    },
    {
      "cell_type": "code",
      "metadata": {
        "colab": {
          "base_uri": "https://localhost:8080/"
        },
        "id": "Tp6T4TmCXj8W",
        "outputId": "a717a273-7f72-4e34-daa7-22d5ae1503e0"
      },
      "source": [
        "#Two floating numbers:\n",
        "print(\"Addition --> \",1.3+2.3)\n",
        "print(\"Subtraction --> \",1.5-2.3)\n",
        "print(\"Multiplication --> \",1.3*2.3)\n",
        "print(\"Divison --> \",1.3/2.3)\n",
        "print(\"Power --> \",1.3**2.3)\n",
        "print(\"Rounding --> \",round(1.3**2.3,2))"
      ],
      "execution_count": null,
      "outputs": [
        {
          "output_type": "stream",
          "text": [
            "Addition -->  3.5999999999999996\n",
            "Subtraction -->  -0.7999999999999998\n",
            "Multiplication -->  2.9899999999999998\n",
            "Divison -->  0.5652173913043479\n",
            "Power -->  1.828393675209252\n",
            "Rounding -->  1.83\n"
          ],
          "name": "stdout"
        }
      ]
    },
    {
      "cell_type": "markdown",
      "metadata": {
        "id": "Y-OJBZpfZJHu"
      },
      "source": [
        "### Integer-Float Operations"
      ]
    },
    {
      "cell_type": "code",
      "metadata": {
        "colab": {
          "base_uri": "https://localhost:8080/"
        },
        "id": "dFAdYubGZMHP",
        "outputId": "4e83096a-e48f-4934-df2b-80b294af8e04"
      },
      "source": [
        "print(\"Addition --> \",1+2.3)\n",
        "print(\"Subtraction --> \",1.5-2)\n",
        "print(\"Multiplication --> \",1*2.3)\n",
        "print(\"Divison --> \",1/2.3)\n",
        "print(\"Power --> \",1.3**2)\n",
        "print(\"Rounding --> \",round(1**2.3,2))"
      ],
      "execution_count": null,
      "outputs": [
        {
          "output_type": "stream",
          "text": [
            "Addition -->  3.3\n",
            "Subtraction -->  -0.5\n",
            "Multiplication -->  2.3\n",
            "Divison -->  0.4347826086956522\n",
            "Power -->  1.6900000000000002\n",
            "Rounding -->  1.0\n"
          ],
          "name": "stdout"
        }
      ]
    },
    {
      "cell_type": "markdown",
      "metadata": {
        "id": "XmcBTnEZZiyV"
      },
      "source": [
        "### String Operations"
      ]
    },
    {
      "cell_type": "code",
      "metadata": {
        "colab": {
          "base_uri": "https://localhost:8080/",
          "height": 35
        },
        "id": "_xzyOX6PZk2l",
        "outputId": "4baabaf2-6e4a-42b6-d2cb-89c60796b34d"
      },
      "source": [
        "\"ABC\" + \"def\" + \"xyZ123\""
      ],
      "execution_count": null,
      "outputs": [
        {
          "output_type": "execute_result",
          "data": {
            "application/vnd.google.colaboratory.intrinsic+json": {
              "type": "string"
            },
            "text/plain": [
              "'ABCdefxyZ123'"
            ]
          },
          "metadata": {
            "tags": []
          },
          "execution_count": 16
        }
      ]
    },
    {
      "cell_type": "code",
      "metadata": {
        "colab": {
          "base_uri": "https://localhost:8080/",
          "height": 162
        },
        "id": "jGr9apigZuL-",
        "outputId": "ef1e95e8-9392-40fb-8adf-7463cb305f78"
      },
      "source": [
        "\"ABC\" / \"def\""
      ],
      "execution_count": null,
      "outputs": [
        {
          "output_type": "error",
          "ename": "TypeError",
          "evalue": "ignored",
          "traceback": [
            "\u001b[0;31m---------------------------------------------------------------------------\u001b[0m",
            "\u001b[0;31mTypeError\u001b[0m                                 Traceback (most recent call last)",
            "\u001b[0;32m<ipython-input-17-09edf99ee7f8>\u001b[0m in \u001b[0;36m<module>\u001b[0;34m()\u001b[0m\n\u001b[0;32m----> 1\u001b[0;31m \u001b[0;34m\"ABC\"\u001b[0m \u001b[0;34m/\u001b[0m \u001b[0;34m\"def\"\u001b[0m\u001b[0;34m\u001b[0m\u001b[0;34m\u001b[0m\u001b[0m\n\u001b[0m",
            "\u001b[0;31mTypeError\u001b[0m: unsupported operand type(s) for /: 'str' and 'str'"
          ]
        }
      ]
    },
    {
      "cell_type": "code",
      "metadata": {
        "colab": {
          "base_uri": "https://localhost:8080/",
          "height": 35
        },
        "id": "hdylj9FXZxyv",
        "outputId": "a29efc5e-233b-47b9-f2fb-2556c739c932"
      },
      "source": [
        "str(1) + \"abc\""
      ],
      "execution_count": null,
      "outputs": [
        {
          "output_type": "execute_result",
          "data": {
            "application/vnd.google.colaboratory.intrinsic+json": {
              "type": "string"
            },
            "text/plain": [
              "'1abc'"
            ]
          },
          "metadata": {
            "tags": []
          },
          "execution_count": 18
        }
      ]
    },
    {
      "cell_type": "code",
      "metadata": {
        "colab": {
          "base_uri": "https://localhost:8080/"
        },
        "id": "Pi5Lmx4eZ2pu",
        "outputId": "67d6db6c-f301-4dbe-e003-fc368b680933"
      },
      "source": [
        "type(str(1))"
      ],
      "execution_count": null,
      "outputs": [
        {
          "output_type": "execute_result",
          "data": {
            "text/plain": [
              "str"
            ]
          },
          "metadata": {
            "tags": []
          },
          "execution_count": 19
        }
      ]
    },
    {
      "cell_type": "markdown",
      "metadata": {
        "id": "BUTrMLIuaHl-"
      },
      "source": [
        "### Boolean Operators\n",
        "\n",
        "1. AND -> &\n",
        "2. OR -> |\n",
        "3. XOR -> ^"
      ]
    },
    {
      "cell_type": "code",
      "metadata": {
        "colab": {
          "base_uri": "https://localhost:8080/"
        },
        "id": "Kwyd_HqYaJwh",
        "outputId": "c33593ae-be53-4784-c7d1-78e72c84eec2"
      },
      "source": [
        "##AND Opeartions\n",
        "print(False & False)\n",
        "print(True & False)\n",
        "print(False & True)\n",
        "print(True & True)"
      ],
      "execution_count": null,
      "outputs": [
        {
          "output_type": "stream",
          "text": [
            "False\n",
            "False\n",
            "False\n",
            "True\n"
          ],
          "name": "stdout"
        }
      ]
    },
    {
      "cell_type": "code",
      "metadata": {
        "colab": {
          "base_uri": "https://localhost:8080/"
        },
        "id": "kVgLRKOKaqRT",
        "outputId": "67bf13e1-cab7-40df-a3a9-3138c9360962"
      },
      "source": [
        "##OR operations\n",
        "print(False | False)\n",
        "print(True | False)\n",
        "print(False | True)\n",
        "print(True | True)"
      ],
      "execution_count": null,
      "outputs": [
        {
          "output_type": "stream",
          "text": [
            "False\n",
            "True\n",
            "True\n",
            "True\n"
          ],
          "name": "stdout"
        }
      ]
    },
    {
      "cell_type": "code",
      "metadata": {
        "colab": {
          "base_uri": "https://localhost:8080/"
        },
        "id": "XlMhOILraxrh",
        "outputId": "d1469b1b-e812-4752-c5da-de45680474e0"
      },
      "source": [
        "##XOR operations\n",
        "print(False ^ False)\n",
        "print(True ^ False)\n",
        "print(False ^ True)\n",
        "print(True ^ True)"
      ],
      "execution_count": null,
      "outputs": [
        {
          "output_type": "stream",
          "text": [
            "False\n",
            "True\n",
            "True\n",
            "False\n"
          ],
          "name": "stdout"
        }
      ]
    },
    {
      "cell_type": "markdown",
      "metadata": {
        "id": "RHtLlirZ082q"
      },
      "source": [
        "## Variables in Python"
      ]
    },
    {
      "cell_type": "markdown",
      "metadata": {
        "id": "mIVU7gVV1Esx"
      },
      "source": [
        "Variables are names assigned to value/objects that need to be stored in memory.\n",
        "\n",
        "The purpose of variables:\n",
        "1. reusability of the same value at multiple places.\n",
        "2. ease of modification and reapplication of changes."
      ]
    },
    {
      "cell_type": "code",
      "metadata": {
        "id": "8TJkXqEya8iw",
        "colab": {
          "base_uri": "https://localhost:8080/"
        },
        "outputId": "206ff21c-81b1-4048-afeb-7d8928a94994"
      },
      "source": [
        "my_float_no = 2.3\n",
        "print(my_float_no)"
      ],
      "execution_count": 1,
      "outputs": [
        {
          "output_type": "stream",
          "text": [
            "2.3\n"
          ],
          "name": "stdout"
        }
      ]
    },
    {
      "cell_type": "code",
      "metadata": {
        "colab": {
          "base_uri": "https://localhost:8080/"
        },
        "id": "XsFY88RU2EQR",
        "outputId": "1a897687-4a9c-4367-f3cd-86d5656765c2"
      },
      "source": [
        "my_str = \"abc123\"\n",
        "print(my_str)"
      ],
      "execution_count": 2,
      "outputs": [
        {
          "output_type": "stream",
          "text": [
            "abc123\n"
          ],
          "name": "stdout"
        }
      ]
    },
    {
      "cell_type": "code",
      "metadata": {
        "id": "xDa9_Eyd2aEJ"
      },
      "source": [
        ""
      ],
      "execution_count": null,
      "outputs": []
    }
  ]
}