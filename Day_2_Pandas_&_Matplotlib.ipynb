{
  "nbformat": 4,
  "nbformat_minor": 0,
  "metadata": {
    "colab": {
      "name": "Day-2-Pandas & Matplotlib.ipynb",
      "provenance": [],
      "collapsed_sections": [],
      "authorship_tag": "ABX9TyNTkECoQ6bIdToLlEsO68rB",
      "include_colab_link": true
    },
    "kernelspec": {
      "name": "python3",
      "display_name": "Python 3"
    },
    "language_info": {
      "name": "python"
    }
  },
  "cells": [
    {
      "cell_type": "markdown",
      "metadata": {
        "id": "view-in-github",
        "colab_type": "text"
      },
      "source": [
        "<a href=\"https://colab.research.google.com/github/kaustavr19/Football-Analytics-using-Python-7-Day-Workshop/blob/main/Day_2_Pandas_%26_Matplotlib.ipynb\" target=\"_parent\"><img src=\"https://colab.research.google.com/assets/colab-badge.svg\" alt=\"Open In Colab\"/></a>"
      ]
    },
    {
      "cell_type": "markdown",
      "metadata": {
        "id": "p2u4cvLQwNVJ"
      },
      "source": [
        "# Data Manipulation\n",
        "\n",
        "## What is library in python?\n",
        "It is nothing but a collection of functions used to accomplish a common objective.\n",
        "\n",
        "For eg., if we want to work with tables, we would use \"pandas\". For mathematical operations, we use \"math\""
      ]
    },
    {
      "cell_type": "code",
      "metadata": {
        "id": "qgm2DcjtvRvX"
      },
      "source": [
        "#Data manipulation libraries:\n",
        "import pandas as pd"
      ],
      "execution_count": null,
      "outputs": []
    },
    {
      "cell_type": "markdown",
      "metadata": {
        "id": "g7hXYZClxZh3"
      },
      "source": [
        "## The pandas library\n",
        "According to the Wikipedia page for pandas, the name is derived from the term \"panel data\", an econometrics term for data sets that include observations over multiple time periods for the same individuals.\n",
        "\n",
        "PS: It has nothing to do with the Kung Fu type pandas :D"
      ]
    },
    {
      "cell_type": "markdown",
      "metadata": {
        "id": "14nX354Nxfof"
      },
      "source": [
        "### pandas dataframe\n",
        "It is nothing but a collection of rows and columns arranged in a structed tabular format with values inside. Basically, pandas DataFrame is a 2D dictionary i.e. it is a 2D Data Structure in python.\n",
        "\n",
        "In very simple terms, it is equivalent to an Excel Worksheet."
      ]
    },
    {
      "cell_type": "code",
      "metadata": {
        "id": "pFZ7Ju7RwXxz"
      },
      "source": [
        ""
      ],
      "execution_count": null,
      "outputs": []
    }
  ]
}