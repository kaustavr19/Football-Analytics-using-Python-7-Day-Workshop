{
  "nbformat": 4,
  "nbformat_minor": 0,
  "metadata": {
    "colab": {
      "name": "Day-3 HTML & Web Scrapping.ipynb",
      "provenance": [],
      "collapsed_sections": [],
      "authorship_tag": "ABX9TyMDSboBQP5zYrfJi/MJbZuv",
      "include_colab_link": true
    },
    "kernelspec": {
      "name": "python3",
      "display_name": "Python 3"
    },
    "language_info": {
      "name": "python"
    }
  },
  "cells": [
    {
      "cell_type": "markdown",
      "metadata": {
        "id": "view-in-github",
        "colab_type": "text"
      },
      "source": [
        "<a href=\"https://colab.research.google.com/github/kaustavr19/Football-Analytics-using-Python-7-Day-Workshop/blob/main/Day_3_HTML_%26_Web_Scrapping.ipynb\" target=\"_parent\"><img src=\"https://colab.research.google.com/assets/colab-badge.svg\" alt=\"Open In Colab\"/></a>"
      ]
    },
    {
      "cell_type": "markdown",
      "metadata": {
        "id": "h9ezYITjXaS1"
      },
      "source": [
        "## Web Scraping Module\n",
        "\n",
        "### How to read HTML code in a website?\n",
        "Before beginning to scrape, we need to know what goes on under the hood. Not everything, but at least enough for us to use a suitable scraping method.\n",
        "\n",
        "Methods to scrape:\n",
        "\n",
        "1. Through the HTML code\n",
        "2. Through APIs"
      ]
    },
    {
      "cell_type": "markdown",
      "metadata": {
        "id": "gk_w6NlFXqta"
      },
      "source": [
        "## Scrape from the [understat website](https://understat.com/)\n",
        "\n",
        "We will be scraping the player stats"
      ]
    },
    {
      "cell_type": "code",
      "metadata": {
        "id": "KRIRXlGYXFhH"
      },
      "source": [
        ""
      ],
      "execution_count": null,
      "outputs": []
    }
  ]
}