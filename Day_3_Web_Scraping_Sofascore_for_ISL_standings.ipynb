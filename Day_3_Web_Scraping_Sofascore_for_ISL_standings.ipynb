{
  "nbformat": 4,
  "nbformat_minor": 0,
  "metadata": {
    "colab": {
      "name": "Day_3_Web Scraping Sofascore for ISL standings.ipynb",
      "provenance": [],
      "collapsed_sections": [],
      "authorship_tag": "ABX9TyOlSU2lO22nsOUxq6pHYe6f",
      "include_colab_link": true
    },
    "kernelspec": {
      "name": "python3",
      "display_name": "Python 3"
    },
    "language_info": {
      "name": "python"
    }
  },
  "cells": [
    {
      "cell_type": "markdown",
      "metadata": {
        "id": "view-in-github",
        "colab_type": "text"
      },
      "source": [
        "<a href=\"https://colab.research.google.com/github/kaustavr19/Football-Analytics-using-Python-7-Day-Workshop/blob/main/Day_3_Web_Scraping_Sofascore_for_ISL_standings.ipynb\" target=\"_parent\"><img src=\"https://colab.research.google.com/assets/colab-badge.svg\" alt=\"Open In Colab\"/></a>"
      ]
    },
    {
      "cell_type": "markdown",
      "metadata": {
        "id": "3dkYtLRw7h1q"
      },
      "source": [
        "## Scrape from the [SofaScore website](https://www.sofascore.com/tournament/football/india/indian-super-league/1900)"
      ]
    },
    {
      "cell_type": "code",
      "metadata": {
        "id": "0pf11rro6gu5"
      },
      "source": [
        "import json\n",
        "import requests\n",
        "import pandas as pd"
      ],
      "execution_count": 14,
      "outputs": []
    },
    {
      "cell_type": "code",
      "metadata": {
        "id": "5Q2i0QL073Hd"
      },
      "source": [
        "scrape_url = \"https://api.sofascore.com/api/v1/unique-tournament/1900/season/34713/standings/total\"\n",
        "r  = requests.get(scrape_url)\n",
        "json_object = json.loads(r.content)"
      ],
      "execution_count": 2,
      "outputs": []
    },
    {
      "cell_type": "code",
      "metadata": {
        "colab": {
          "base_uri": "https://localhost:8080/"
        },
        "id": "KKceSVmn9Z27",
        "outputId": "c5e6a450-ea2c-4cea-e5e1-a00b893d712a"
      },
      "source": [
        "type(json_object)"
      ],
      "execution_count": 3,
      "outputs": [
        {
          "output_type": "execute_result",
          "data": {
            "text/plain": [
              "dict"
            ]
          },
          "metadata": {
            "tags": []
          },
          "execution_count": 3
        }
      ]
    },
    {
      "cell_type": "code",
      "metadata": {
        "colab": {
          "base_uri": "https://localhost:8080/"
        },
        "id": "En8IQ0Xf9caf",
        "outputId": "710860fc-ad5a-418f-bf5e-93da1297b2bd"
      },
      "source": [
        "json_object.__len__()"
      ],
      "execution_count": 4,
      "outputs": [
        {
          "output_type": "execute_result",
          "data": {
            "text/plain": [
              "1"
            ]
          },
          "metadata": {
            "tags": []
          },
          "execution_count": 4
        }
      ]
    },
    {
      "cell_type": "code",
      "metadata": {
        "colab": {
          "base_uri": "https://localhost:8080/"
        },
        "id": "vClcab58-Sf_",
        "outputId": "7c2016ba-6c23-464a-f6ec-9a5b64771847"
      },
      "source": [
        "json_object.keys()"
      ],
      "execution_count": 5,
      "outputs": [
        {
          "output_type": "execute_result",
          "data": {
            "text/plain": [
              "dict_keys(['standings'])"
            ]
          },
          "metadata": {
            "tags": []
          },
          "execution_count": 5
        }
      ]
    },
    {
      "cell_type": "code",
      "metadata": {
        "colab": {
          "base_uri": "https://localhost:8080/"
        },
        "id": "dT-1J1oW-Vs3",
        "outputId": "50864083-1e34-4b36-d7e4-159dcee2da91"
      },
      "source": [
        "json_object.values()"
      ],
      "execution_count": 6,
      "outputs": [
        {
          "output_type": "execute_result",
          "data": {
            "text/plain": [
              "dict_values([[{'tournament': {'name': 'Indian Super League', 'slug': 'indian-super-league', 'category': {'name': 'India', 'slug': 'india', 'sport': {'name': 'Football', 'slug': 'football', 'id': 1}, 'id': 352, 'flag': 'india', 'alpha2': 'IN'}, 'uniqueTournament': {'name': 'Indian Super League', 'slug': 'indian-super-league', 'category': {'name': 'India', 'slug': 'india', 'sport': {'name': 'Football', 'slug': 'football', 'id': 1}, 'id': 352, 'flag': 'india', 'alpha2': 'IN'}, 'userCount': 18435, 'id': 1900}, 'id': 38566}, 'type': 'total', 'name': 'Indian Super League', 'descriptions': [], 'tieBreakingRule': {'text': 'In the event that two (or more) teams have an equal number of points, the following rules break the tie during the season: 1. Goal difference 2. Goals scored At the end of the season, the following tie-breaking procedures are used: 1. Head-to-head 2. Goal difference 3. Goals scored', 'id': 4}, 'rows': [{'team': {'name': 'Mumbai City FC', 'slug': 'mumbai-city-fc', 'shortName': 'Mumbai City', 'gender': 'M', 'userCount': 7641, 'nameCode': 'MCI', 'national': False, 'type': 0, 'id': 174600, 'teamColors': {'primary': '#0000ff', 'secondary': '#0000ff', 'text': '#0000ff'}}, 'descriptions': [], 'promotion': {'text': 'Playoffs', 'id': 6}, 'position': 1, 'matches': 20, 'wins': 12, 'losses': 4, 'draws': 4, 'scoresFor': 35, 'scoresAgainst': 18, 'points': 40, 'id': 541930}, {'team': {'name': 'ATK Mohun Bagan FC', 'slug': 'atk-mohun-bagan-fc', 'shortName': 'ATK Mohun Bagan', 'gender': 'M', 'userCount': 6251, 'nameCode': 'AMB', 'national': False, 'type': 0, 'id': 370834, 'teamColors': {'primary': '#91191b', 'secondary': '#246a1d', 'text': '#246a1d'}}, 'descriptions': [], 'promotion': {'text': 'Playoffs', 'id': 6}, 'position': 2, 'matches': 20, 'wins': 12, 'losses': 4, 'draws': 4, 'scoresFor': 28, 'scoresAgainst': 15, 'points': 40, 'id': 544103}, {'team': {'name': 'Northeast United', 'slug': 'northeast-united', 'shortName': 'Northeast Utd', 'gender': 'M', 'userCount': 4186, 'nameCode': 'NUN', 'national': False, 'type': 0, 'id': 174602, 'teamColors': {'primary': '#ffffff', 'secondary': '#ffffff', 'text': '#ffffff'}}, 'descriptions': [], 'promotion': {'text': 'Playoffs', 'id': 6}, 'position': 3, 'matches': 20, 'wins': 8, 'losses': 3, 'draws': 9, 'scoresFor': 31, 'scoresAgainst': 25, 'points': 33, 'id': 541931}, {'team': {'name': 'FC Goa', 'slug': 'fc-goa', 'shortName': 'Goa', 'gender': 'M', 'userCount': 8447, 'nameCode': 'GOA', 'national': False, 'type': 0, 'id': 174594, 'teamColors': {'primary': '#0033ff', 'secondary': '#0033ff', 'text': '#0033ff'}}, 'descriptions': [], 'promotion': {'text': 'Playoffs', 'id': 6}, 'position': 4, 'matches': 20, 'wins': 7, 'losses': 3, 'draws': 10, 'scoresFor': 31, 'scoresAgainst': 23, 'points': 31, 'id': 541925}, {'team': {'name': 'Hyderabad FC', 'slug': 'hyderabad-fc', 'shortName': 'Hyderabad', 'gender': 'M', 'userCount': 3052, 'nameCode': 'HYD', 'disabled': False, 'national': False, 'type': 0, 'id': 331840, 'teamColors': {'primary': '#0f141b', 'secondary': '#f8ca1c', 'text': '#f8ca1c'}}, 'descriptions': [], 'position': 5, 'matches': 20, 'wins': 6, 'losses': 3, 'draws': 11, 'scoresFor': 27, 'scoresAgainst': 19, 'points': 29, 'id': 541926}, {'team': {'name': 'Jamshedpur', 'slug': 'jamshedpur', 'shortName': 'Jamshedpur', 'gender': 'M', 'userCount': 3012, 'nameCode': 'JAM', 'national': False, 'type': 0, 'id': 267915, 'teamColors': {'primary': '#eb2325', 'secondary': '#000000', 'text': '#000000'}}, 'descriptions': [], 'position': 6, 'matches': 20, 'wins': 7, 'losses': 7, 'draws': 6, 'scoresFor': 21, 'scoresAgainst': 22, 'points': 27, 'id': 541927}, {'team': {'name': 'Bengaluru FC', 'slug': 'bengaluru-fc', 'shortName': 'Bengaluru', 'gender': 'M', 'userCount': 6978, 'nameCode': 'BEN', 'national': False, 'type': 0, 'id': 118670, 'teamColors': {'primary': '#0b062c', 'secondary': '#000000', 'text': '#000000'}}, 'descriptions': [], 'position': 7, 'matches': 20, 'wins': 5, 'losses': 8, 'draws': 7, 'scoresFor': 26, 'scoresAgainst': 28, 'points': 22, 'id': 541923}, {'team': {'name': 'Chennaiyin FC', 'slug': 'chennaiyin-fc', 'shortName': 'Chennaiyin', 'gender': 'M', 'userCount': 4649, 'nameCode': 'CHE', 'national': False, 'type': 0, 'id': 174590, 'teamColors': {'primary': '#0000ff', 'secondary': '#0000ff', 'text': '#0000ff'}}, 'descriptions': [], 'position': 8, 'matches': 20, 'wins': 3, 'losses': 6, 'draws': 11, 'scoresFor': 17, 'scoresAgainst': 23, 'points': 20, 'id': 541924}, {'team': {'name': 'SC East Bengal', 'slug': 'sc-east-bengal', 'shortName': 'SC East Bengal', 'gender': 'M', 'userCount': 3970, 'nameCode': 'EBC', 'disabled': False, 'national': False, 'type': 0, 'id': 40655, 'teamColors': {'primary': '#ed1c24', 'secondary': '#ffc90e', 'text': '#ffc90e'}}, 'descriptions': [], 'position': 9, 'matches': 20, 'wins': 3, 'losses': 9, 'draws': 8, 'scoresFor': 22, 'scoresAgainst': 33, 'points': 17, 'id': 541933}, {'team': {'name': 'Kerala Blasters', 'slug': 'kerala-blasters', 'shortName': 'Blasters', 'gender': 'M', 'userCount': 10639, 'nameCode': 'KBL', 'disabled': False, 'national': False, 'type': 0, 'id': 174598, 'teamColors': {'primary': '#ffff00', 'secondary': '#ffff00', 'text': '#ffff00'}}, 'descriptions': [], 'position': 10, 'matches': 20, 'wins': 3, 'losses': 9, 'draws': 8, 'scoresFor': 23, 'scoresAgainst': 36, 'points': 17, 'id': 541928}, {'team': {'name': 'Odisha Football Club', 'slug': 'odisha-football-club', 'shortName': 'Odisha FC', 'gender': 'M', 'userCount': 2989, 'nameCode': 'DDY', 'national': False, 'type': 0, 'id': 174592, 'teamColors': {'primary': '#ff6600', 'secondary': '#ff6600', 'text': '#ff6600'}}, 'descriptions': [], 'position': 11, 'matches': 20, 'wins': 2, 'losses': 12, 'draws': 6, 'scoresFor': 25, 'scoresAgainst': 44, 'points': 12, 'id': 541932}], 'id': 68782, 'updatedAtTimestamp': 1607615921}]])"
            ]
          },
          "metadata": {
            "tags": []
          },
          "execution_count": 6
        }
      ]
    },
    {
      "cell_type": "code",
      "metadata": {
        "colab": {
          "base_uri": "https://localhost:8080/"
        },
        "id": "klAo9V3y-X6M",
        "outputId": "5dcdac9d-2023-4544-d871-6e9da0a94451"
      },
      "source": [
        "len(json_object[\"standings\"])"
      ],
      "execution_count": 7,
      "outputs": [
        {
          "output_type": "execute_result",
          "data": {
            "text/plain": [
              "1"
            ]
          },
          "metadata": {
            "tags": []
          },
          "execution_count": 7
        }
      ]
    },
    {
      "cell_type": "code",
      "metadata": {
        "colab": {
          "base_uri": "https://localhost:8080/"
        },
        "id": "zYDn2CKh_Uk6",
        "outputId": "f8adaccc-1e54-4b94-f1c3-049bca1df9ef"
      },
      "source": [
        "#length of the dict within the list\n",
        "len(json_object[\"standings\"][0])"
      ],
      "execution_count": 8,
      "outputs": [
        {
          "output_type": "execute_result",
          "data": {
            "text/plain": [
              "8"
            ]
          },
          "metadata": {
            "tags": []
          },
          "execution_count": 8
        }
      ]
    },
    {
      "cell_type": "code",
      "metadata": {
        "colab": {
          "base_uri": "https://localhost:8080/"
        },
        "id": "1pzdixe5_d3N",
        "outputId": "11dd9815-deca-4962-e7f1-f0eb830f46d0"
      },
      "source": [
        "json_object[\"standings\"][0].keys()"
      ],
      "execution_count": 9,
      "outputs": [
        {
          "output_type": "execute_result",
          "data": {
            "text/plain": [
              "dict_keys(['tournament', 'type', 'name', 'descriptions', 'tieBreakingRule', 'rows', 'id', 'updatedAtTimestamp'])"
            ]
          },
          "metadata": {
            "tags": []
          },
          "execution_count": 9
        }
      ]
    },
    {
      "cell_type": "code",
      "metadata": {
        "colab": {
          "base_uri": "https://localhost:8080/"
        },
        "id": "L-J0_mEL_mLo",
        "outputId": "c279a4db-6987-437b-b48c-6cff1a9955cf"
      },
      "source": [
        "json_object[\"standings\"][0].values()"
      ],
      "execution_count": 10,
      "outputs": [
        {
          "output_type": "execute_result",
          "data": {
            "text/plain": [
              "dict_values([{'name': 'Indian Super League', 'slug': 'indian-super-league', 'category': {'name': 'India', 'slug': 'india', 'sport': {'name': 'Football', 'slug': 'football', 'id': 1}, 'id': 352, 'flag': 'india', 'alpha2': 'IN'}, 'uniqueTournament': {'name': 'Indian Super League', 'slug': 'indian-super-league', 'category': {'name': 'India', 'slug': 'india', 'sport': {'name': 'Football', 'slug': 'football', 'id': 1}, 'id': 352, 'flag': 'india', 'alpha2': 'IN'}, 'userCount': 18435, 'id': 1900}, 'id': 38566}, 'total', 'Indian Super League', [], {'text': 'In the event that two (or more) teams have an equal number of points, the following rules break the tie during the season: 1. Goal difference 2. Goals scored At the end of the season, the following tie-breaking procedures are used: 1. Head-to-head 2. Goal difference 3. Goals scored', 'id': 4}, [{'team': {'name': 'Mumbai City FC', 'slug': 'mumbai-city-fc', 'shortName': 'Mumbai City', 'gender': 'M', 'userCount': 7641, 'nameCode': 'MCI', 'national': False, 'type': 0, 'id': 174600, 'teamColors': {'primary': '#0000ff', 'secondary': '#0000ff', 'text': '#0000ff'}}, 'descriptions': [], 'promotion': {'text': 'Playoffs', 'id': 6}, 'position': 1, 'matches': 20, 'wins': 12, 'losses': 4, 'draws': 4, 'scoresFor': 35, 'scoresAgainst': 18, 'points': 40, 'id': 541930}, {'team': {'name': 'ATK Mohun Bagan FC', 'slug': 'atk-mohun-bagan-fc', 'shortName': 'ATK Mohun Bagan', 'gender': 'M', 'userCount': 6251, 'nameCode': 'AMB', 'national': False, 'type': 0, 'id': 370834, 'teamColors': {'primary': '#91191b', 'secondary': '#246a1d', 'text': '#246a1d'}}, 'descriptions': [], 'promotion': {'text': 'Playoffs', 'id': 6}, 'position': 2, 'matches': 20, 'wins': 12, 'losses': 4, 'draws': 4, 'scoresFor': 28, 'scoresAgainst': 15, 'points': 40, 'id': 544103}, {'team': {'name': 'Northeast United', 'slug': 'northeast-united', 'shortName': 'Northeast Utd', 'gender': 'M', 'userCount': 4186, 'nameCode': 'NUN', 'national': False, 'type': 0, 'id': 174602, 'teamColors': {'primary': '#ffffff', 'secondary': '#ffffff', 'text': '#ffffff'}}, 'descriptions': [], 'promotion': {'text': 'Playoffs', 'id': 6}, 'position': 3, 'matches': 20, 'wins': 8, 'losses': 3, 'draws': 9, 'scoresFor': 31, 'scoresAgainst': 25, 'points': 33, 'id': 541931}, {'team': {'name': 'FC Goa', 'slug': 'fc-goa', 'shortName': 'Goa', 'gender': 'M', 'userCount': 8447, 'nameCode': 'GOA', 'national': False, 'type': 0, 'id': 174594, 'teamColors': {'primary': '#0033ff', 'secondary': '#0033ff', 'text': '#0033ff'}}, 'descriptions': [], 'promotion': {'text': 'Playoffs', 'id': 6}, 'position': 4, 'matches': 20, 'wins': 7, 'losses': 3, 'draws': 10, 'scoresFor': 31, 'scoresAgainst': 23, 'points': 31, 'id': 541925}, {'team': {'name': 'Hyderabad FC', 'slug': 'hyderabad-fc', 'shortName': 'Hyderabad', 'gender': 'M', 'userCount': 3052, 'nameCode': 'HYD', 'disabled': False, 'national': False, 'type': 0, 'id': 331840, 'teamColors': {'primary': '#0f141b', 'secondary': '#f8ca1c', 'text': '#f8ca1c'}}, 'descriptions': [], 'position': 5, 'matches': 20, 'wins': 6, 'losses': 3, 'draws': 11, 'scoresFor': 27, 'scoresAgainst': 19, 'points': 29, 'id': 541926}, {'team': {'name': 'Jamshedpur', 'slug': 'jamshedpur', 'shortName': 'Jamshedpur', 'gender': 'M', 'userCount': 3012, 'nameCode': 'JAM', 'national': False, 'type': 0, 'id': 267915, 'teamColors': {'primary': '#eb2325', 'secondary': '#000000', 'text': '#000000'}}, 'descriptions': [], 'position': 6, 'matches': 20, 'wins': 7, 'losses': 7, 'draws': 6, 'scoresFor': 21, 'scoresAgainst': 22, 'points': 27, 'id': 541927}, {'team': {'name': 'Bengaluru FC', 'slug': 'bengaluru-fc', 'shortName': 'Bengaluru', 'gender': 'M', 'userCount': 6978, 'nameCode': 'BEN', 'national': False, 'type': 0, 'id': 118670, 'teamColors': {'primary': '#0b062c', 'secondary': '#000000', 'text': '#000000'}}, 'descriptions': [], 'position': 7, 'matches': 20, 'wins': 5, 'losses': 8, 'draws': 7, 'scoresFor': 26, 'scoresAgainst': 28, 'points': 22, 'id': 541923}, {'team': {'name': 'Chennaiyin FC', 'slug': 'chennaiyin-fc', 'shortName': 'Chennaiyin', 'gender': 'M', 'userCount': 4649, 'nameCode': 'CHE', 'national': False, 'type': 0, 'id': 174590, 'teamColors': {'primary': '#0000ff', 'secondary': '#0000ff', 'text': '#0000ff'}}, 'descriptions': [], 'position': 8, 'matches': 20, 'wins': 3, 'losses': 6, 'draws': 11, 'scoresFor': 17, 'scoresAgainst': 23, 'points': 20, 'id': 541924}, {'team': {'name': 'SC East Bengal', 'slug': 'sc-east-bengal', 'shortName': 'SC East Bengal', 'gender': 'M', 'userCount': 3970, 'nameCode': 'EBC', 'disabled': False, 'national': False, 'type': 0, 'id': 40655, 'teamColors': {'primary': '#ed1c24', 'secondary': '#ffc90e', 'text': '#ffc90e'}}, 'descriptions': [], 'position': 9, 'matches': 20, 'wins': 3, 'losses': 9, 'draws': 8, 'scoresFor': 22, 'scoresAgainst': 33, 'points': 17, 'id': 541933}, {'team': {'name': 'Kerala Blasters', 'slug': 'kerala-blasters', 'shortName': 'Blasters', 'gender': 'M', 'userCount': 10639, 'nameCode': 'KBL', 'disabled': False, 'national': False, 'type': 0, 'id': 174598, 'teamColors': {'primary': '#ffff00', 'secondary': '#ffff00', 'text': '#ffff00'}}, 'descriptions': [], 'position': 10, 'matches': 20, 'wins': 3, 'losses': 9, 'draws': 8, 'scoresFor': 23, 'scoresAgainst': 36, 'points': 17, 'id': 541928}, {'team': {'name': 'Odisha Football Club', 'slug': 'odisha-football-club', 'shortName': 'Odisha FC', 'gender': 'M', 'userCount': 2989, 'nameCode': 'DDY', 'national': False, 'type': 0, 'id': 174592, 'teamColors': {'primary': '#ff6600', 'secondary': '#ff6600', 'text': '#ff6600'}}, 'descriptions': [], 'position': 11, 'matches': 20, 'wins': 2, 'losses': 12, 'draws': 6, 'scoresFor': 25, 'scoresAgainst': 44, 'points': 12, 'id': 541932}], 68782, 1607615921])"
            ]
          },
          "metadata": {
            "tags": []
          },
          "execution_count": 10
        }
      ]
    },
    {
      "cell_type": "code",
      "metadata": {
        "colab": {
          "base_uri": "https://localhost:8080/"
        },
        "id": "21lJMcsz_pUz",
        "outputId": "10bee353-631b-4ba7-f8e5-97e9ad2d24de"
      },
      "source": [
        "json_object[\"standings\"][0][\"tournament\"]"
      ],
      "execution_count": 11,
      "outputs": [
        {
          "output_type": "execute_result",
          "data": {
            "text/plain": [
              "{'category': {'alpha2': 'IN',\n",
              "  'flag': 'india',\n",
              "  'id': 352,\n",
              "  'name': 'India',\n",
              "  'slug': 'india',\n",
              "  'sport': {'id': 1, 'name': 'Football', 'slug': 'football'}},\n",
              " 'id': 38566,\n",
              " 'name': 'Indian Super League',\n",
              " 'slug': 'indian-super-league',\n",
              " 'uniqueTournament': {'category': {'alpha2': 'IN',\n",
              "   'flag': 'india',\n",
              "   'id': 352,\n",
              "   'name': 'India',\n",
              "   'slug': 'india',\n",
              "   'sport': {'id': 1, 'name': 'Football', 'slug': 'football'}},\n",
              "  'id': 1900,\n",
              "  'name': 'Indian Super League',\n",
              "  'slug': 'indian-super-league',\n",
              "  'userCount': 18435}}"
            ]
          },
          "metadata": {
            "tags": []
          },
          "execution_count": 11
        }
      ]
    },
    {
      "cell_type": "code",
      "metadata": {
        "colab": {
          "base_uri": "https://localhost:8080/"
        },
        "id": "YeYyXg36_-Gs",
        "outputId": "46006690-1a0b-4c88-deeb-89d7ffc7554c"
      },
      "source": [
        "json_object[\"standings\"][0][\"rows\"]"
      ],
      "execution_count": 12,
      "outputs": [
        {
          "output_type": "execute_result",
          "data": {
            "text/plain": [
              "[{'descriptions': [],\n",
              "  'draws': 4,\n",
              "  'id': 541930,\n",
              "  'losses': 4,\n",
              "  'matches': 20,\n",
              "  'points': 40,\n",
              "  'position': 1,\n",
              "  'promotion': {'id': 6, 'text': 'Playoffs'},\n",
              "  'scoresAgainst': 18,\n",
              "  'scoresFor': 35,\n",
              "  'team': {'gender': 'M',\n",
              "   'id': 174600,\n",
              "   'name': 'Mumbai City FC',\n",
              "   'nameCode': 'MCI',\n",
              "   'national': False,\n",
              "   'shortName': 'Mumbai City',\n",
              "   'slug': 'mumbai-city-fc',\n",
              "   'teamColors': {'primary': '#0000ff',\n",
              "    'secondary': '#0000ff',\n",
              "    'text': '#0000ff'},\n",
              "   'type': 0,\n",
              "   'userCount': 7641},\n",
              "  'wins': 12},\n",
              " {'descriptions': [],\n",
              "  'draws': 4,\n",
              "  'id': 544103,\n",
              "  'losses': 4,\n",
              "  'matches': 20,\n",
              "  'points': 40,\n",
              "  'position': 2,\n",
              "  'promotion': {'id': 6, 'text': 'Playoffs'},\n",
              "  'scoresAgainst': 15,\n",
              "  'scoresFor': 28,\n",
              "  'team': {'gender': 'M',\n",
              "   'id': 370834,\n",
              "   'name': 'ATK Mohun Bagan FC',\n",
              "   'nameCode': 'AMB',\n",
              "   'national': False,\n",
              "   'shortName': 'ATK Mohun Bagan',\n",
              "   'slug': 'atk-mohun-bagan-fc',\n",
              "   'teamColors': {'primary': '#91191b',\n",
              "    'secondary': '#246a1d',\n",
              "    'text': '#246a1d'},\n",
              "   'type': 0,\n",
              "   'userCount': 6251},\n",
              "  'wins': 12},\n",
              " {'descriptions': [],\n",
              "  'draws': 9,\n",
              "  'id': 541931,\n",
              "  'losses': 3,\n",
              "  'matches': 20,\n",
              "  'points': 33,\n",
              "  'position': 3,\n",
              "  'promotion': {'id': 6, 'text': 'Playoffs'},\n",
              "  'scoresAgainst': 25,\n",
              "  'scoresFor': 31,\n",
              "  'team': {'gender': 'M',\n",
              "   'id': 174602,\n",
              "   'name': 'Northeast United',\n",
              "   'nameCode': 'NUN',\n",
              "   'national': False,\n",
              "   'shortName': 'Northeast Utd',\n",
              "   'slug': 'northeast-united',\n",
              "   'teamColors': {'primary': '#ffffff',\n",
              "    'secondary': '#ffffff',\n",
              "    'text': '#ffffff'},\n",
              "   'type': 0,\n",
              "   'userCount': 4186},\n",
              "  'wins': 8},\n",
              " {'descriptions': [],\n",
              "  'draws': 10,\n",
              "  'id': 541925,\n",
              "  'losses': 3,\n",
              "  'matches': 20,\n",
              "  'points': 31,\n",
              "  'position': 4,\n",
              "  'promotion': {'id': 6, 'text': 'Playoffs'},\n",
              "  'scoresAgainst': 23,\n",
              "  'scoresFor': 31,\n",
              "  'team': {'gender': 'M',\n",
              "   'id': 174594,\n",
              "   'name': 'FC Goa',\n",
              "   'nameCode': 'GOA',\n",
              "   'national': False,\n",
              "   'shortName': 'Goa',\n",
              "   'slug': 'fc-goa',\n",
              "   'teamColors': {'primary': '#0033ff',\n",
              "    'secondary': '#0033ff',\n",
              "    'text': '#0033ff'},\n",
              "   'type': 0,\n",
              "   'userCount': 8447},\n",
              "  'wins': 7},\n",
              " {'descriptions': [],\n",
              "  'draws': 11,\n",
              "  'id': 541926,\n",
              "  'losses': 3,\n",
              "  'matches': 20,\n",
              "  'points': 29,\n",
              "  'position': 5,\n",
              "  'scoresAgainst': 19,\n",
              "  'scoresFor': 27,\n",
              "  'team': {'disabled': False,\n",
              "   'gender': 'M',\n",
              "   'id': 331840,\n",
              "   'name': 'Hyderabad FC',\n",
              "   'nameCode': 'HYD',\n",
              "   'national': False,\n",
              "   'shortName': 'Hyderabad',\n",
              "   'slug': 'hyderabad-fc',\n",
              "   'teamColors': {'primary': '#0f141b',\n",
              "    'secondary': '#f8ca1c',\n",
              "    'text': '#f8ca1c'},\n",
              "   'type': 0,\n",
              "   'userCount': 3052},\n",
              "  'wins': 6},\n",
              " {'descriptions': [],\n",
              "  'draws': 6,\n",
              "  'id': 541927,\n",
              "  'losses': 7,\n",
              "  'matches': 20,\n",
              "  'points': 27,\n",
              "  'position': 6,\n",
              "  'scoresAgainst': 22,\n",
              "  'scoresFor': 21,\n",
              "  'team': {'gender': 'M',\n",
              "   'id': 267915,\n",
              "   'name': 'Jamshedpur',\n",
              "   'nameCode': 'JAM',\n",
              "   'national': False,\n",
              "   'shortName': 'Jamshedpur',\n",
              "   'slug': 'jamshedpur',\n",
              "   'teamColors': {'primary': '#eb2325',\n",
              "    'secondary': '#000000',\n",
              "    'text': '#000000'},\n",
              "   'type': 0,\n",
              "   'userCount': 3012},\n",
              "  'wins': 7},\n",
              " {'descriptions': [],\n",
              "  'draws': 7,\n",
              "  'id': 541923,\n",
              "  'losses': 8,\n",
              "  'matches': 20,\n",
              "  'points': 22,\n",
              "  'position': 7,\n",
              "  'scoresAgainst': 28,\n",
              "  'scoresFor': 26,\n",
              "  'team': {'gender': 'M',\n",
              "   'id': 118670,\n",
              "   'name': 'Bengaluru FC',\n",
              "   'nameCode': 'BEN',\n",
              "   'national': False,\n",
              "   'shortName': 'Bengaluru',\n",
              "   'slug': 'bengaluru-fc',\n",
              "   'teamColors': {'primary': '#0b062c',\n",
              "    'secondary': '#000000',\n",
              "    'text': '#000000'},\n",
              "   'type': 0,\n",
              "   'userCount': 6978},\n",
              "  'wins': 5},\n",
              " {'descriptions': [],\n",
              "  'draws': 11,\n",
              "  'id': 541924,\n",
              "  'losses': 6,\n",
              "  'matches': 20,\n",
              "  'points': 20,\n",
              "  'position': 8,\n",
              "  'scoresAgainst': 23,\n",
              "  'scoresFor': 17,\n",
              "  'team': {'gender': 'M',\n",
              "   'id': 174590,\n",
              "   'name': 'Chennaiyin FC',\n",
              "   'nameCode': 'CHE',\n",
              "   'national': False,\n",
              "   'shortName': 'Chennaiyin',\n",
              "   'slug': 'chennaiyin-fc',\n",
              "   'teamColors': {'primary': '#0000ff',\n",
              "    'secondary': '#0000ff',\n",
              "    'text': '#0000ff'},\n",
              "   'type': 0,\n",
              "   'userCount': 4649},\n",
              "  'wins': 3},\n",
              " {'descriptions': [],\n",
              "  'draws': 8,\n",
              "  'id': 541933,\n",
              "  'losses': 9,\n",
              "  'matches': 20,\n",
              "  'points': 17,\n",
              "  'position': 9,\n",
              "  'scoresAgainst': 33,\n",
              "  'scoresFor': 22,\n",
              "  'team': {'disabled': False,\n",
              "   'gender': 'M',\n",
              "   'id': 40655,\n",
              "   'name': 'SC East Bengal',\n",
              "   'nameCode': 'EBC',\n",
              "   'national': False,\n",
              "   'shortName': 'SC East Bengal',\n",
              "   'slug': 'sc-east-bengal',\n",
              "   'teamColors': {'primary': '#ed1c24',\n",
              "    'secondary': '#ffc90e',\n",
              "    'text': '#ffc90e'},\n",
              "   'type': 0,\n",
              "   'userCount': 3970},\n",
              "  'wins': 3},\n",
              " {'descriptions': [],\n",
              "  'draws': 8,\n",
              "  'id': 541928,\n",
              "  'losses': 9,\n",
              "  'matches': 20,\n",
              "  'points': 17,\n",
              "  'position': 10,\n",
              "  'scoresAgainst': 36,\n",
              "  'scoresFor': 23,\n",
              "  'team': {'disabled': False,\n",
              "   'gender': 'M',\n",
              "   'id': 174598,\n",
              "   'name': 'Kerala Blasters',\n",
              "   'nameCode': 'KBL',\n",
              "   'national': False,\n",
              "   'shortName': 'Blasters',\n",
              "   'slug': 'kerala-blasters',\n",
              "   'teamColors': {'primary': '#ffff00',\n",
              "    'secondary': '#ffff00',\n",
              "    'text': '#ffff00'},\n",
              "   'type': 0,\n",
              "   'userCount': 10639},\n",
              "  'wins': 3},\n",
              " {'descriptions': [],\n",
              "  'draws': 6,\n",
              "  'id': 541932,\n",
              "  'losses': 12,\n",
              "  'matches': 20,\n",
              "  'points': 12,\n",
              "  'position': 11,\n",
              "  'scoresAgainst': 44,\n",
              "  'scoresFor': 25,\n",
              "  'team': {'gender': 'M',\n",
              "   'id': 174592,\n",
              "   'name': 'Odisha Football Club',\n",
              "   'nameCode': 'DDY',\n",
              "   'national': False,\n",
              "   'shortName': 'Odisha FC',\n",
              "   'slug': 'odisha-football-club',\n",
              "   'teamColors': {'primary': '#ff6600',\n",
              "    'secondary': '#ff6600',\n",
              "    'text': '#ff6600'},\n",
              "   'type': 0,\n",
              "   'userCount': 2989},\n",
              "  'wins': 2}]"
            ]
          },
          "metadata": {
            "tags": []
          },
          "execution_count": 12
        }
      ]
    },
    {
      "cell_type": "code",
      "metadata": {
        "colab": {
          "base_uri": "https://localhost:8080/",
          "height": 561
        },
        "id": "-u1mL3KpAEaE",
        "outputId": "4dd34056-c889-41e9-dc3f-205265a07df3"
      },
      "source": [
        "pd.json_normalize(json_object[\"standings\"][0][\"rows\"])"
      ],
      "execution_count": 15,
      "outputs": [
        {
          "output_type": "execute_result",
          "data": {
            "text/html": [
              "<div>\n",
              "<style scoped>\n",
              "    .dataframe tbody tr th:only-of-type {\n",
              "        vertical-align: middle;\n",
              "    }\n",
              "\n",
              "    .dataframe tbody tr th {\n",
              "        vertical-align: top;\n",
              "    }\n",
              "\n",
              "    .dataframe thead th {\n",
              "        text-align: right;\n",
              "    }\n",
              "</style>\n",
              "<table border=\"1\" class=\"dataframe\">\n",
              "  <thead>\n",
              "    <tr style=\"text-align: right;\">\n",
              "      <th></th>\n",
              "      <th>descriptions</th>\n",
              "      <th>position</th>\n",
              "      <th>matches</th>\n",
              "      <th>wins</th>\n",
              "      <th>losses</th>\n",
              "      <th>draws</th>\n",
              "      <th>scoresFor</th>\n",
              "      <th>scoresAgainst</th>\n",
              "      <th>points</th>\n",
              "      <th>id</th>\n",
              "      <th>team.name</th>\n",
              "      <th>team.slug</th>\n",
              "      <th>team.shortName</th>\n",
              "      <th>team.gender</th>\n",
              "      <th>team.userCount</th>\n",
              "      <th>team.nameCode</th>\n",
              "      <th>team.national</th>\n",
              "      <th>team.type</th>\n",
              "      <th>team.id</th>\n",
              "      <th>team.teamColors.primary</th>\n",
              "      <th>team.teamColors.secondary</th>\n",
              "      <th>team.teamColors.text</th>\n",
              "      <th>promotion.text</th>\n",
              "      <th>promotion.id</th>\n",
              "      <th>team.disabled</th>\n",
              "    </tr>\n",
              "  </thead>\n",
              "  <tbody>\n",
              "    <tr>\n",
              "      <th>0</th>\n",
              "      <td>[]</td>\n",
              "      <td>1</td>\n",
              "      <td>20</td>\n",
              "      <td>12</td>\n",
              "      <td>4</td>\n",
              "      <td>4</td>\n",
              "      <td>35</td>\n",
              "      <td>18</td>\n",
              "      <td>40</td>\n",
              "      <td>541930</td>\n",
              "      <td>Mumbai City FC</td>\n",
              "      <td>mumbai-city-fc</td>\n",
              "      <td>Mumbai City</td>\n",
              "      <td>M</td>\n",
              "      <td>7641</td>\n",
              "      <td>MCI</td>\n",
              "      <td>False</td>\n",
              "      <td>0</td>\n",
              "      <td>174600</td>\n",
              "      <td>#0000ff</td>\n",
              "      <td>#0000ff</td>\n",
              "      <td>#0000ff</td>\n",
              "      <td>Playoffs</td>\n",
              "      <td>6.0</td>\n",
              "      <td>NaN</td>\n",
              "    </tr>\n",
              "    <tr>\n",
              "      <th>1</th>\n",
              "      <td>[]</td>\n",
              "      <td>2</td>\n",
              "      <td>20</td>\n",
              "      <td>12</td>\n",
              "      <td>4</td>\n",
              "      <td>4</td>\n",
              "      <td>28</td>\n",
              "      <td>15</td>\n",
              "      <td>40</td>\n",
              "      <td>544103</td>\n",
              "      <td>ATK Mohun Bagan FC</td>\n",
              "      <td>atk-mohun-bagan-fc</td>\n",
              "      <td>ATK Mohun Bagan</td>\n",
              "      <td>M</td>\n",
              "      <td>6251</td>\n",
              "      <td>AMB</td>\n",
              "      <td>False</td>\n",
              "      <td>0</td>\n",
              "      <td>370834</td>\n",
              "      <td>#91191b</td>\n",
              "      <td>#246a1d</td>\n",
              "      <td>#246a1d</td>\n",
              "      <td>Playoffs</td>\n",
              "      <td>6.0</td>\n",
              "      <td>NaN</td>\n",
              "    </tr>\n",
              "    <tr>\n",
              "      <th>2</th>\n",
              "      <td>[]</td>\n",
              "      <td>3</td>\n",
              "      <td>20</td>\n",
              "      <td>8</td>\n",
              "      <td>3</td>\n",
              "      <td>9</td>\n",
              "      <td>31</td>\n",
              "      <td>25</td>\n",
              "      <td>33</td>\n",
              "      <td>541931</td>\n",
              "      <td>Northeast United</td>\n",
              "      <td>northeast-united</td>\n",
              "      <td>Northeast Utd</td>\n",
              "      <td>M</td>\n",
              "      <td>4186</td>\n",
              "      <td>NUN</td>\n",
              "      <td>False</td>\n",
              "      <td>0</td>\n",
              "      <td>174602</td>\n",
              "      <td>#ffffff</td>\n",
              "      <td>#ffffff</td>\n",
              "      <td>#ffffff</td>\n",
              "      <td>Playoffs</td>\n",
              "      <td>6.0</td>\n",
              "      <td>NaN</td>\n",
              "    </tr>\n",
              "    <tr>\n",
              "      <th>3</th>\n",
              "      <td>[]</td>\n",
              "      <td>4</td>\n",
              "      <td>20</td>\n",
              "      <td>7</td>\n",
              "      <td>3</td>\n",
              "      <td>10</td>\n",
              "      <td>31</td>\n",
              "      <td>23</td>\n",
              "      <td>31</td>\n",
              "      <td>541925</td>\n",
              "      <td>FC Goa</td>\n",
              "      <td>fc-goa</td>\n",
              "      <td>Goa</td>\n",
              "      <td>M</td>\n",
              "      <td>8447</td>\n",
              "      <td>GOA</td>\n",
              "      <td>False</td>\n",
              "      <td>0</td>\n",
              "      <td>174594</td>\n",
              "      <td>#0033ff</td>\n",
              "      <td>#0033ff</td>\n",
              "      <td>#0033ff</td>\n",
              "      <td>Playoffs</td>\n",
              "      <td>6.0</td>\n",
              "      <td>NaN</td>\n",
              "    </tr>\n",
              "    <tr>\n",
              "      <th>4</th>\n",
              "      <td>[]</td>\n",
              "      <td>5</td>\n",
              "      <td>20</td>\n",
              "      <td>6</td>\n",
              "      <td>3</td>\n",
              "      <td>11</td>\n",
              "      <td>27</td>\n",
              "      <td>19</td>\n",
              "      <td>29</td>\n",
              "      <td>541926</td>\n",
              "      <td>Hyderabad FC</td>\n",
              "      <td>hyderabad-fc</td>\n",
              "      <td>Hyderabad</td>\n",
              "      <td>M</td>\n",
              "      <td>3052</td>\n",
              "      <td>HYD</td>\n",
              "      <td>False</td>\n",
              "      <td>0</td>\n",
              "      <td>331840</td>\n",
              "      <td>#0f141b</td>\n",
              "      <td>#f8ca1c</td>\n",
              "      <td>#f8ca1c</td>\n",
              "      <td>NaN</td>\n",
              "      <td>NaN</td>\n",
              "      <td>False</td>\n",
              "    </tr>\n",
              "    <tr>\n",
              "      <th>5</th>\n",
              "      <td>[]</td>\n",
              "      <td>6</td>\n",
              "      <td>20</td>\n",
              "      <td>7</td>\n",
              "      <td>7</td>\n",
              "      <td>6</td>\n",
              "      <td>21</td>\n",
              "      <td>22</td>\n",
              "      <td>27</td>\n",
              "      <td>541927</td>\n",
              "      <td>Jamshedpur</td>\n",
              "      <td>jamshedpur</td>\n",
              "      <td>Jamshedpur</td>\n",
              "      <td>M</td>\n",
              "      <td>3012</td>\n",
              "      <td>JAM</td>\n",
              "      <td>False</td>\n",
              "      <td>0</td>\n",
              "      <td>267915</td>\n",
              "      <td>#eb2325</td>\n",
              "      <td>#000000</td>\n",
              "      <td>#000000</td>\n",
              "      <td>NaN</td>\n",
              "      <td>NaN</td>\n",
              "      <td>NaN</td>\n",
              "    </tr>\n",
              "    <tr>\n",
              "      <th>6</th>\n",
              "      <td>[]</td>\n",
              "      <td>7</td>\n",
              "      <td>20</td>\n",
              "      <td>5</td>\n",
              "      <td>8</td>\n",
              "      <td>7</td>\n",
              "      <td>26</td>\n",
              "      <td>28</td>\n",
              "      <td>22</td>\n",
              "      <td>541923</td>\n",
              "      <td>Bengaluru FC</td>\n",
              "      <td>bengaluru-fc</td>\n",
              "      <td>Bengaluru</td>\n",
              "      <td>M</td>\n",
              "      <td>6978</td>\n",
              "      <td>BEN</td>\n",
              "      <td>False</td>\n",
              "      <td>0</td>\n",
              "      <td>118670</td>\n",
              "      <td>#0b062c</td>\n",
              "      <td>#000000</td>\n",
              "      <td>#000000</td>\n",
              "      <td>NaN</td>\n",
              "      <td>NaN</td>\n",
              "      <td>NaN</td>\n",
              "    </tr>\n",
              "    <tr>\n",
              "      <th>7</th>\n",
              "      <td>[]</td>\n",
              "      <td>8</td>\n",
              "      <td>20</td>\n",
              "      <td>3</td>\n",
              "      <td>6</td>\n",
              "      <td>11</td>\n",
              "      <td>17</td>\n",
              "      <td>23</td>\n",
              "      <td>20</td>\n",
              "      <td>541924</td>\n",
              "      <td>Chennaiyin FC</td>\n",
              "      <td>chennaiyin-fc</td>\n",
              "      <td>Chennaiyin</td>\n",
              "      <td>M</td>\n",
              "      <td>4649</td>\n",
              "      <td>CHE</td>\n",
              "      <td>False</td>\n",
              "      <td>0</td>\n",
              "      <td>174590</td>\n",
              "      <td>#0000ff</td>\n",
              "      <td>#0000ff</td>\n",
              "      <td>#0000ff</td>\n",
              "      <td>NaN</td>\n",
              "      <td>NaN</td>\n",
              "      <td>NaN</td>\n",
              "    </tr>\n",
              "    <tr>\n",
              "      <th>8</th>\n",
              "      <td>[]</td>\n",
              "      <td>9</td>\n",
              "      <td>20</td>\n",
              "      <td>3</td>\n",
              "      <td>9</td>\n",
              "      <td>8</td>\n",
              "      <td>22</td>\n",
              "      <td>33</td>\n",
              "      <td>17</td>\n",
              "      <td>541933</td>\n",
              "      <td>SC East Bengal</td>\n",
              "      <td>sc-east-bengal</td>\n",
              "      <td>SC East Bengal</td>\n",
              "      <td>M</td>\n",
              "      <td>3970</td>\n",
              "      <td>EBC</td>\n",
              "      <td>False</td>\n",
              "      <td>0</td>\n",
              "      <td>40655</td>\n",
              "      <td>#ed1c24</td>\n",
              "      <td>#ffc90e</td>\n",
              "      <td>#ffc90e</td>\n",
              "      <td>NaN</td>\n",
              "      <td>NaN</td>\n",
              "      <td>False</td>\n",
              "    </tr>\n",
              "    <tr>\n",
              "      <th>9</th>\n",
              "      <td>[]</td>\n",
              "      <td>10</td>\n",
              "      <td>20</td>\n",
              "      <td>3</td>\n",
              "      <td>9</td>\n",
              "      <td>8</td>\n",
              "      <td>23</td>\n",
              "      <td>36</td>\n",
              "      <td>17</td>\n",
              "      <td>541928</td>\n",
              "      <td>Kerala Blasters</td>\n",
              "      <td>kerala-blasters</td>\n",
              "      <td>Blasters</td>\n",
              "      <td>M</td>\n",
              "      <td>10639</td>\n",
              "      <td>KBL</td>\n",
              "      <td>False</td>\n",
              "      <td>0</td>\n",
              "      <td>174598</td>\n",
              "      <td>#ffff00</td>\n",
              "      <td>#ffff00</td>\n",
              "      <td>#ffff00</td>\n",
              "      <td>NaN</td>\n",
              "      <td>NaN</td>\n",
              "      <td>False</td>\n",
              "    </tr>\n",
              "    <tr>\n",
              "      <th>10</th>\n",
              "      <td>[]</td>\n",
              "      <td>11</td>\n",
              "      <td>20</td>\n",
              "      <td>2</td>\n",
              "      <td>12</td>\n",
              "      <td>6</td>\n",
              "      <td>25</td>\n",
              "      <td>44</td>\n",
              "      <td>12</td>\n",
              "      <td>541932</td>\n",
              "      <td>Odisha Football Club</td>\n",
              "      <td>odisha-football-club</td>\n",
              "      <td>Odisha FC</td>\n",
              "      <td>M</td>\n",
              "      <td>2989</td>\n",
              "      <td>DDY</td>\n",
              "      <td>False</td>\n",
              "      <td>0</td>\n",
              "      <td>174592</td>\n",
              "      <td>#ff6600</td>\n",
              "      <td>#ff6600</td>\n",
              "      <td>#ff6600</td>\n",
              "      <td>NaN</td>\n",
              "      <td>NaN</td>\n",
              "      <td>NaN</td>\n",
              "    </tr>\n",
              "  </tbody>\n",
              "</table>\n",
              "</div>"
            ],
            "text/plain": [
              "   descriptions  position  matches  ...  promotion.text  promotion.id  team.disabled\n",
              "0            []         1       20  ...        Playoffs           6.0            NaN\n",
              "1            []         2       20  ...        Playoffs           6.0            NaN\n",
              "2            []         3       20  ...        Playoffs           6.0            NaN\n",
              "3            []         4       20  ...        Playoffs           6.0            NaN\n",
              "4            []         5       20  ...             NaN           NaN          False\n",
              "5            []         6       20  ...             NaN           NaN            NaN\n",
              "6            []         7       20  ...             NaN           NaN            NaN\n",
              "7            []         8       20  ...             NaN           NaN            NaN\n",
              "8            []         9       20  ...             NaN           NaN          False\n",
              "9            []        10       20  ...             NaN           NaN          False\n",
              "10           []        11       20  ...             NaN           NaN            NaN\n",
              "\n",
              "[11 rows x 25 columns]"
            ]
          },
          "metadata": {
            "tags": []
          },
          "execution_count": 15
        }
      ]
    },
    {
      "cell_type": "code",
      "metadata": {
        "id": "oo9JB466AOix"
      },
      "source": [
        "isl_standings_df = pd.json_normalize(json_object[\"standings\"][0][\"rows\"])"
      ],
      "execution_count": 16,
      "outputs": []
    },
    {
      "cell_type": "code",
      "metadata": {
        "colab": {
          "base_uri": "https://localhost:8080/",
          "height": 17
        },
        "id": "SdOkLDN7A2dL",
        "outputId": "7e276219-d8bb-44ea-a123-d327b9b050d3"
      },
      "source": [
        "from google.colab import files\n",
        "pd.json_normalize(json_object[\"standings\"][0][\"rows\"]).to_csv('isl_data.csv')\n",
        "files.download('isl_data.csv')"
      ],
      "execution_count": 17,
      "outputs": [
        {
          "output_type": "display_data",
          "data": {
            "application/javascript": [
              "\n",
              "    async function download(id, filename, size) {\n",
              "      if (!google.colab.kernel.accessAllowed) {\n",
              "        return;\n",
              "      }\n",
              "      const div = document.createElement('div');\n",
              "      const label = document.createElement('label');\n",
              "      label.textContent = `Downloading \"${filename}\": `;\n",
              "      div.appendChild(label);\n",
              "      const progress = document.createElement('progress');\n",
              "      progress.max = size;\n",
              "      div.appendChild(progress);\n",
              "      document.body.appendChild(div);\n",
              "\n",
              "      const buffers = [];\n",
              "      let downloaded = 0;\n",
              "\n",
              "      const channel = await google.colab.kernel.comms.open(id);\n",
              "      // Send a message to notify the kernel that we're ready.\n",
              "      channel.send({})\n",
              "\n",
              "      for await (const message of channel.messages) {\n",
              "        // Send a message to notify the kernel that we're ready.\n",
              "        channel.send({})\n",
              "        if (message.buffers) {\n",
              "          for (const buffer of message.buffers) {\n",
              "            buffers.push(buffer);\n",
              "            downloaded += buffer.byteLength;\n",
              "            progress.value = downloaded;\n",
              "          }\n",
              "        }\n",
              "      }\n",
              "      const blob = new Blob(buffers, {type: 'application/binary'});\n",
              "      const a = document.createElement('a');\n",
              "      a.href = window.URL.createObjectURL(blob);\n",
              "      a.download = filename;\n",
              "      div.appendChild(a);\n",
              "      a.click();\n",
              "      div.remove();\n",
              "    }\n",
              "  "
            ],
            "text/plain": [
              "<IPython.core.display.Javascript object>"
            ]
          },
          "metadata": {
            "tags": []
          }
        },
        {
          "output_type": "display_data",
          "data": {
            "application/javascript": [
              "download(\"download_6295e27a-37b4-4af3-8d44-ce595dfa11df\", \"isl_data.csv\", 1751)"
            ],
            "text/plain": [
              "<IPython.core.display.Javascript object>"
            ]
          },
          "metadata": {
            "tags": []
          }
        }
      ]
    },
    {
      "cell_type": "code",
      "metadata": {
        "id": "skykri68BKWJ"
      },
      "source": [
        ""
      ],
      "execution_count": null,
      "outputs": []
    }
  ]
}